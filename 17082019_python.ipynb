{
  "nbformat": 4,
  "nbformat_minor": 0,
  "metadata": {
    "colab": {
      "name": "17082019_python.ipynb",
      "version": "0.3.2",
      "provenance": [],
      "collapsed_sections": [
        "Jl95HLCX923u",
        "jCROsFLG8YQh",
        "8vskOJCv8iqa",
        "uMzbPa-N-IkZ"
      ],
      "include_colab_link": true
    },
    "kernelspec": {
      "name": "python3",
      "display_name": "Python 3"
    }
  },
  "cells": [
    {
      "cell_type": "markdown",
      "metadata": {
        "id": "view-in-github",
        "colab_type": "text"
      },
      "source": [
        "<a href=\"https://colab.research.google.com/github/CodeMaster1/Padh-AI-Course/blob/master/17082019_python.ipynb\" target=\"_parent\"><img src=\"https://colab.research.google.com/assets/colab-badge.svg\" alt=\"Open In Colab\"/></a>"
      ]
    },
    {
      "cell_type": "markdown",
      "metadata": {
        "id": "Jl95HLCX923u",
        "colab_type": "text"
      },
      "source": [
        "# Basic data types"
      ]
    },
    {
      "cell_type": "code",
      "metadata": {
        "id": "nupvMjSvxARy",
        "colab_type": "code",
        "colab": {}
      },
      "source": [
        "name = 'iPhone 5s'"
      ],
      "execution_count": 0,
      "outputs": []
    },
    {
      "cell_type": "code",
      "metadata": {
        "id": "YcHX7g9bxPne",
        "colab_type": "code",
        "outputId": "b8450d5b-7465-4bf7-f3f5-5e25c341b012",
        "colab": {
          "base_uri": "https://localhost:8080/",
          "height": 0
        }
      },
      "source": [
        "type(name)"
      ],
      "execution_count": 2,
      "outputs": [
        {
          "output_type": "execute_result",
          "data": {
            "text/plain": [
              "str"
            ]
          },
          "metadata": {
            "tags": []
          },
          "execution_count": 2
        }
      ]
    },
    {
      "cell_type": "code",
      "metadata": {
        "id": "QgTQIbEA9808",
        "colab_type": "code",
        "colab": {}
      },
      "source": [
        ""
      ],
      "execution_count": 0,
      "outputs": []
    },
    {
      "cell_type": "code",
      "metadata": {
        "id": "Bno60IokxTks",
        "colab_type": "code",
        "outputId": "b52feed5-912c-438f-c0d3-8abd8485988b",
        "colab": {
          "base_uri": "https://localhost:8080/",
          "height": 0
        }
      },
      "source": [
        "print(name)"
      ],
      "execution_count": 3,
      "outputs": [
        {
          "output_type": "stream",
          "text": [
            "iPhone 5s\n"
          ],
          "name": "stdout"
        }
      ]
    },
    {
      "cell_type": "code",
      "metadata": {
        "id": "9GipdzLaxXVh",
        "colab_type": "code",
        "colab": {}
      },
      "source": [
        "screen = 4.3"
      ],
      "execution_count": 0,
      "outputs": []
    },
    {
      "cell_type": "code",
      "metadata": {
        "id": "F3Jz2r4cxau9",
        "colab_type": "code",
        "outputId": "02b4de96-08e9-48ff-a923-7665d5b4064d",
        "colab": {
          "base_uri": "https://localhost:8080/",
          "height": 0
        }
      },
      "source": [
        "type(screen)"
      ],
      "execution_count": 5,
      "outputs": [
        {
          "output_type": "execute_result",
          "data": {
            "text/plain": [
              "float"
            ]
          },
          "metadata": {
            "tags": []
          },
          "execution_count": 5
        }
      ]
    },
    {
      "cell_type": "code",
      "metadata": {
        "id": "peb3c-EqxeJ6",
        "colab_type": "code",
        "colab": {}
      },
      "source": [
        "num_of_speakers = 1"
      ],
      "execution_count": 0,
      "outputs": []
    },
    {
      "cell_type": "code",
      "metadata": {
        "id": "9GUt3gvixg6Q",
        "colab_type": "code",
        "outputId": "0f0fb549-5dcc-4dcb-a54d-b0e08c595508",
        "colab": {
          "base_uri": "https://localhost:8080/",
          "height": 0
        }
      },
      "source": [
        "type(num_of_speakers)"
      ],
      "execution_count": 7,
      "outputs": [
        {
          "output_type": "execute_result",
          "data": {
            "text/plain": [
              "int"
            ]
          },
          "metadata": {
            "tags": []
          },
          "execution_count": 7
        }
      ]
    },
    {
      "cell_type": "code",
      "metadata": {
        "id": "xj68AtxdxklF",
        "colab_type": "code",
        "outputId": "f9dd2dc9-4b35-4e79-840d-3ddc2c970914",
        "colab": {
          "base_uri": "https://localhost:8080/",
          "height": 0
        }
      },
      "source": [
        "print('I just bought an ' + name)"
      ],
      "execution_count": 8,
      "outputs": [
        {
          "output_type": "stream",
          "text": [
            "I just bought an iPhone 5s\n"
          ],
          "name": "stdout"
        }
      ]
    },
    {
      "cell_type": "code",
      "metadata": {
        "id": "6KCLPBZ3xuQT",
        "colab_type": "code",
        "outputId": "aa5d8071-ab95-45aa-b38b-3eba5eb82553",
        "colab": {
          "base_uri": "https://localhost:8080/",
          "height": 0
        }
      },
      "source": [
        "a = 3\n",
        "b = 2\n",
        "print( a * b, a / b, a ** b)"
      ],
      "execution_count": 9,
      "outputs": [
        {
          "output_type": "stream",
          "text": [
            "6 1.5 9\n"
          ],
          "name": "stdout"
        }
      ]
    },
    {
      "cell_type": "code",
      "metadata": {
        "id": "9a44rUOvyUIk",
        "colab_type": "code",
        "outputId": "1ffcb0f4-cc64-461d-ceb9-26c682c25661",
        "colab": {
          "base_uri": "https://localhost:8080/",
          "height": 0
        }
      },
      "source": [
        "is_android = False\n",
        "type(is_android)"
      ],
      "execution_count": 10,
      "outputs": [
        {
          "output_type": "execute_result",
          "data": {
            "text/plain": [
              "bool"
            ]
          },
          "metadata": {
            "tags": []
          },
          "execution_count": 10
        }
      ]
    },
    {
      "cell_type": "code",
      "metadata": {
        "id": "-tqjBEMzyszf",
        "colab_type": "code",
        "outputId": "370f00fb-c49e-4cbe-c39c-4da10873cdde",
        "colab": {
          "base_uri": "https://localhost:8080/",
          "height": 0
        }
      },
      "source": [
        "print(is_android == True)"
      ],
      "execution_count": 11,
      "outputs": [
        {
          "output_type": "stream",
          "text": [
            "False\n"
          ],
          "name": "stdout"
        }
      ]
    },
    {
      "cell_type": "code",
      "metadata": {
        "id": "ZUNHUgXDywvM",
        "colab_type": "code",
        "outputId": "218a75b1-8352-450c-aeeb-afe2cd4b6fe7",
        "colab": {
          "base_uri": "https://localhost:8080/",
          "height": 0
        }
      },
      "source": [
        "type(is_android)"
      ],
      "execution_count": 12,
      "outputs": [
        {
          "output_type": "execute_result",
          "data": {
            "text/plain": [
              "bool"
            ]
          },
          "metadata": {
            "tags": []
          },
          "execution_count": 12
        }
      ]
    },
    {
      "cell_type": "code",
      "metadata": {
        "id": "mHnCFKqOy1Cr",
        "colab_type": "code",
        "outputId": "1fcb2a27-69ac-4383-dbaa-86c93c37453a",
        "colab": {
          "base_uri": "https://localhost:8080/",
          "height": 0
        }
      },
      "source": [
        "print(is_android == True and num_of_speakers > 5)"
      ],
      "execution_count": 13,
      "outputs": [
        {
          "output_type": "stream",
          "text": [
            "False\n"
          ],
          "name": "stdout"
        }
      ]
    },
    {
      "cell_type": "markdown",
      "metadata": {
        "id": "jCROsFLG8YQh",
        "colab_type": "text"
      },
      "source": [
        "# Code Blocks - if, for, while"
      ]
    },
    {
      "cell_type": "code",
      "metadata": {
        "id": "Fen4llruzFS1",
        "colab_type": "code",
        "outputId": "8289aa7c-31a6-4846-ccbb-ef320207b3dc",
        "colab": {
          "base_uri": "https://localhost:8080/",
          "height": 0
        }
      },
      "source": [
        "if is_android == True:\n",
        "  print(name + 'supports android')\n",
        "  print('Continuing the print inside the if block')\n",
        "print('Printing outside the if block')"
      ],
      "execution_count": 14,
      "outputs": [
        {
          "output_type": "stream",
          "text": [
            "Printing outside the if block\n"
          ],
          "name": "stdout"
        }
      ]
    },
    {
      "cell_type": "code",
      "metadata": {
        "id": "NpfEIG3jzepf",
        "colab_type": "code",
        "outputId": "57d8d93d-3382-45e1-f05a-fe6f1c01e016",
        "colab": {
          "base_uri": "https://localhost:8080/",
          "height": 0
        }
      },
      "source": [
        "for i in range(5):\n",
        "  print(i, i**2)"
      ],
      "execution_count": 15,
      "outputs": [
        {
          "output_type": "stream",
          "text": [
            "0 0\n",
            "1 1\n",
            "2 4\n",
            "3 9\n",
            "4 16\n"
          ],
          "name": "stdout"
        }
      ]
    },
    {
      "cell_type": "code",
      "metadata": {
        "id": "sB5psUIEzqIP",
        "colab_type": "code",
        "colab": {}
      },
      "source": [
        "range?\n"
      ],
      "execution_count": 0,
      "outputs": []
    },
    {
      "cell_type": "code",
      "metadata": {
        "id": "VkFhVANu0P1t",
        "colab_type": "code",
        "outputId": "394c88c8-e455-47ec-fb20-5206acb99ad5",
        "colab": {
          "base_uri": "https://localhost:8080/",
          "height": 0
        }
      },
      "source": [
        "i = 0\n",
        "while i < 5:\n",
        "  print(i, i ** 2)\n",
        "  i += 1  #equivalent to i + 1"
      ],
      "execution_count": 17,
      "outputs": [
        {
          "output_type": "stream",
          "text": [
            "0 0\n",
            "1 1\n",
            "2 4\n",
            "3 9\n",
            "4 16\n"
          ],
          "name": "stdout"
        }
      ]
    },
    {
      "cell_type": "code",
      "metadata": {
        "id": "fT8Dd5DV0gSg",
        "colab_type": "code",
        "colab": {}
      },
      "source": [
        "def print_square (stop_val):\n",
        "   for i in range(stop_val):\n",
        "      print(i, i ** 2)"
      ],
      "execution_count": 0,
      "outputs": []
    },
    {
      "cell_type": "code",
      "metadata": {
        "id": "H5nntABD0uVs",
        "colab_type": "code",
        "outputId": "d04ea76e-66fe-4c92-86f8-a07b51f1af41",
        "colab": {
          "base_uri": "https://localhost:8080/",
          "height": 0
        }
      },
      "source": [
        "print_square(5)"
      ],
      "execution_count": 19,
      "outputs": [
        {
          "output_type": "stream",
          "text": [
            "0 0\n",
            "1 1\n",
            "2 4\n",
            "3 9\n",
            "4 16\n"
          ],
          "name": "stdout"
        }
      ]
    },
    {
      "cell_type": "markdown",
      "metadata": {
        "id": "8vskOJCv8iqa",
        "colab_type": "text"
      },
      "source": [
        "# Functions"
      ]
    },
    {
      "cell_type": "code",
      "metadata": {
        "id": "_NpnYYi600Vm",
        "colab_type": "code",
        "colab": {}
      },
      "source": [
        "def sum_of_squares(stop_val):\n",
        "  local_sum = 0\n",
        "  for i in range(stop_val):\n",
        "    square = i ** 2\n",
        "    local_sum += square\n",
        "  return local_sum"
      ],
      "execution_count": 0,
      "outputs": []
    },
    {
      "cell_type": "code",
      "metadata": {
        "id": "Te6YzB801P5l",
        "colab_type": "code",
        "outputId": "31852c20-b937-4255-d389-e5e499d7f1e2",
        "colab": {
          "base_uri": "https://localhost:8080/",
          "height": 0
        }
      },
      "source": [
        "sum_of_squares(5)"
      ],
      "execution_count": 21,
      "outputs": [
        {
          "output_type": "execute_result",
          "data": {
            "text/plain": [
              "30"
            ]
          },
          "metadata": {
            "tags": []
          },
          "execution_count": 21
        }
      ]
    },
    {
      "cell_type": "code",
      "metadata": {
        "id": "Me0WRIXn1WsP",
        "colab_type": "code",
        "colab": {}
      },
      "source": [
        "full_sum = sum_of_squares(5)"
      ],
      "execution_count": 0,
      "outputs": []
    },
    {
      "cell_type": "code",
      "metadata": {
        "id": "jh1pf0iR1aas",
        "colab_type": "code",
        "outputId": "c670f6cf-a0e0-4107-bb01-50e6b8759c55",
        "colab": {
          "base_uri": "https://localhost:8080/",
          "height": 0
        }
      },
      "source": [
        "full_sum"
      ],
      "execution_count": 23,
      "outputs": [
        {
          "output_type": "execute_result",
          "data": {
            "text/plain": [
              "30"
            ]
          },
          "metadata": {
            "tags": []
          },
          "execution_count": 23
        }
      ]
    },
    {
      "cell_type": "code",
      "metadata": {
        "id": "5FitzzgK1l_j",
        "colab_type": "code",
        "colab": {}
      },
      "source": [
        "def print_square_with_startval(stop_val, start_val = 0):\n",
        "  \"\"\"Prints the square of numbers with start val till stop val\"\"\"\n",
        "  for i in range (start_val, stop_val):\n",
        "      print(i, i ** 2)"
      ],
      "execution_count": 0,
      "outputs": []
    },
    {
      "cell_type": "code",
      "metadata": {
        "id": "MPWoz6mR1zxp",
        "colab_type": "code",
        "outputId": "31e88f0e-e8cf-408d-f1a8-792dec6b3df7",
        "colab": {
          "base_uri": "https://localhost:8080/",
          "height": 0
        }
      },
      "source": [
        "print_square_with_startval(5, 2)"
      ],
      "execution_count": 25,
      "outputs": [
        {
          "output_type": "stream",
          "text": [
            "2 4\n",
            "3 9\n",
            "4 16\n"
          ],
          "name": "stdout"
        }
      ]
    },
    {
      "cell_type": "code",
      "metadata": {
        "id": "gdvEwrgt2U0V",
        "colab_type": "code",
        "colab": {}
      },
      "source": [
        "print_square_with_startval?"
      ],
      "execution_count": 0,
      "outputs": []
    },
    {
      "cell_type": "markdown",
      "metadata": {
        "id": "uMzbPa-N-IkZ",
        "colab_type": "text"
      },
      "source": [
        "#Lists\n"
      ]
    },
    {
      "cell_type": "code",
      "metadata": {
        "id": "kNBc6SSn-OMr",
        "colab_type": "code",
        "colab": {}
      },
      "source": [
        "my_phone = [name, is_android, screen]"
      ],
      "execution_count": 0,
      "outputs": []
    },
    {
      "cell_type": "code",
      "metadata": {
        "id": "5BhN-0u2-iYl",
        "colab_type": "code",
        "colab": {
          "base_uri": "https://localhost:8080/",
          "height": 0
        },
        "outputId": "d102a93b-2f5f-4148-8534-5c0f8527487c"
      },
      "source": [
        "type(my_phone)"
      ],
      "execution_count": 28,
      "outputs": [
        {
          "output_type": "execute_result",
          "data": {
            "text/plain": [
              "list"
            ]
          },
          "metadata": {
            "tags": []
          },
          "execution_count": 28
        }
      ]
    },
    {
      "cell_type": "code",
      "metadata": {
        "id": "OX26P_9l-Msv",
        "colab_type": "code",
        "colab": {
          "base_uri": "https://localhost:8080/",
          "height": 0
        },
        "outputId": "b23cc297-09e0-4e25-f9ce-91625d996c2f"
      },
      "source": [
        "  print(my_phone)"
      ],
      "execution_count": 29,
      "outputs": [
        {
          "output_type": "stream",
          "text": [
            "['iPhone 5s', False, 4.3]\n"
          ],
          "name": "stdout"
        }
      ]
    },
    {
      "cell_type": "code",
      "metadata": {
        "id": "ldBH0Ufv-m65",
        "colab_type": "code",
        "colab": {
          "base_uri": "https://localhost:8080/",
          "height": 0
        },
        "outputId": "ff24be70-198b-4660-8252-a040f14aee9d"
      },
      "source": [
        "my_phone[0]"
      ],
      "execution_count": 30,
      "outputs": [
        {
          "output_type": "execute_result",
          "data": {
            "text/plain": [
              "'iPhone 5s'"
            ]
          },
          "metadata": {
            "tags": []
          },
          "execution_count": 30
        }
      ]
    },
    {
      "cell_type": "code",
      "metadata": {
        "id": "YGTeqJQa-rb3",
        "colab_type": "code",
        "colab": {
          "base_uri": "https://localhost:8080/",
          "height": 0
        },
        "outputId": "c288dad1-2d2c-435a-ee5d-bc7523b4fe01"
      },
      "source": [
        "type(my_phone[0])"
      ],
      "execution_count": 31,
      "outputs": [
        {
          "output_type": "execute_result",
          "data": {
            "text/plain": [
              "str"
            ]
          },
          "metadata": {
            "tags": []
          },
          "execution_count": 31
        }
      ]
    },
    {
      "cell_type": "code",
      "metadata": {
        "id": "kVbzFRDZ-uOl",
        "colab_type": "code",
        "colab": {}
      },
      "source": [
        "my_dads_phone = my_phone"
      ],
      "execution_count": 0,
      "outputs": []
    },
    {
      "cell_type": "code",
      "metadata": {
        "id": "HxRFVpQa-7JA",
        "colab_type": "code",
        "colab": {
          "base_uri": "https://localhost:8080/",
          "height": 0
        },
        "outputId": "1dd379b9-927d-4157-ea2e-470c99833ec8"
      },
      "source": [
        "print(my_dads_phone)"
      ],
      "execution_count": 33,
      "outputs": [
        {
          "output_type": "stream",
          "text": [
            "['iPhone 5s', False, 4.3]\n"
          ],
          "name": "stdout"
        }
      ]
    },
    {
      "cell_type": "code",
      "metadata": {
        "id": "kkS-mD1l-9cA",
        "colab_type": "code",
        "colab": {}
      },
      "source": [
        "my_phone[2] = 4"
      ],
      "execution_count": 0,
      "outputs": []
    },
    {
      "cell_type": "code",
      "metadata": {
        "id": "pGLxaU0r_C4t",
        "colab_type": "code",
        "colab": {
          "base_uri": "https://localhost:8080/",
          "height": 0
        },
        "outputId": "428c17c9-bdbf-4ff1-971b-8309484e3aa0"
      },
      "source": [
        "my_phone "
      ],
      "execution_count": 35,
      "outputs": [
        {
          "output_type": "execute_result",
          "data": {
            "text/plain": [
              "['iPhone 5s', False, 4]"
            ]
          },
          "metadata": {
            "tags": []
          },
          "execution_count": 35
        }
      ]
    },
    {
      "cell_type": "code",
      "metadata": {
        "id": "v6N3B3ZV_ENJ",
        "colab_type": "code",
        "colab": {
          "base_uri": "https://localhost:8080/",
          "height": 0
        },
        "outputId": "e476d0f3-8a7c-4cd9-ca1b-d9a191abf541"
      },
      "source": [
        "print(my_dads_phone)"
      ],
      "execution_count": 36,
      "outputs": [
        {
          "output_type": "stream",
          "text": [
            "['iPhone 5s', False, 4]\n"
          ],
          "name": "stdout"
        }
      ]
    },
    {
      "cell_type": "code",
      "metadata": {
        "id": "SkQUwK67_HX8",
        "colab_type": "code",
        "colab": {}
      },
      "source": [
        ""
      ],
      "execution_count": 0,
      "outputs": []
    },
    {
      "cell_type": "code",
      "metadata": {
        "id": "pZfmQOf9_T9K",
        "colab_type": "code",
        "colab": {}
      },
      "source": [
        "my_dads_phone = my_phone[:]"
      ],
      "execution_count": 0,
      "outputs": []
    },
    {
      "cell_type": "code",
      "metadata": {
        "id": "JSt8GJER_aRl",
        "colab_type": "code",
        "colab": {}
      },
      "source": [
        "my_phone[2] = 4.3"
      ],
      "execution_count": 0,
      "outputs": []
    },
    {
      "cell_type": "code",
      "metadata": {
        "id": "ACwSnYYJ_day",
        "colab_type": "code",
        "colab": {
          "base_uri": "https://localhost:8080/",
          "height": 0
        },
        "outputId": "24940948-091a-48b8-889b-d30aca98dfad"
      },
      "source": [
        "print(my_dads_phone)\n",
        "print(my_phone)"
      ],
      "execution_count": 39,
      "outputs": [
        {
          "output_type": "stream",
          "text": [
            "['iPhone 5s', False, 4]\n",
            "['iPhone 5s', False, 4.3]\n"
          ],
          "name": "stdout"
        }
      ]
    },
    {
      "cell_type": "code",
      "metadata": {
        "id": "68Aq5dHo_hf2",
        "colab_type": "code",
        "colab": {
          "base_uri": "https://localhost:8080/",
          "height": 0
        },
        "outputId": "514886f4-74b3-49ba-a372-10476b9e3389"
      },
      "source": [
        "len(my_phone)"
      ],
      "execution_count": 40,
      "outputs": [
        {
          "output_type": "execute_result",
          "data": {
            "text/plain": [
              "3"
            ]
          },
          "metadata": {
            "tags": []
          },
          "execution_count": 40
        }
      ]
    },
    {
      "cell_type": "code",
      "metadata": {
        "id": "2tRvXlwo_rvp",
        "colab_type": "code",
        "colab": {}
      },
      "source": [
        "my_phone.append('3G')"
      ],
      "execution_count": 0,
      "outputs": []
    },
    {
      "cell_type": "code",
      "metadata": {
        "id": "jSOYqh7B_uin",
        "colab_type": "code",
        "colab": {
          "base_uri": "https://localhost:8080/",
          "height": 0
        },
        "outputId": "b9c2edc5-4641-48ff-d56d-9b25df19eecd"
      },
      "source": [
        "len(my_phone)"
      ],
      "execution_count": 42,
      "outputs": [
        {
          "output_type": "execute_result",
          "data": {
            "text/plain": [
              "4"
            ]
          },
          "metadata": {
            "tags": []
          },
          "execution_count": 42
        }
      ]
    },
    {
      "cell_type": "code",
      "metadata": {
        "id": "zWGf4cZU_wVb",
        "colab_type": "code",
        "colab": {
          "base_uri": "https://localhost:8080/",
          "height": 0
        },
        "outputId": "b75e71a7-c8cc-41dc-db5b-b11601ebd634"
      },
      "source": [
        "print(my_phone)"
      ],
      "execution_count": 43,
      "outputs": [
        {
          "output_type": "stream",
          "text": [
            "['iPhone 5s', False, 4.3, '3G']\n"
          ],
          "name": "stdout"
        }
      ]
    },
    {
      "cell_type": "code",
      "metadata": {
        "id": "Un8G9QuO_0Sw",
        "colab_type": "code",
        "colab": {}
      },
      "source": [
        "iphone5s_phone_prefs = ['single_sim', 35000]"
      ],
      "execution_count": 0,
      "outputs": []
    },
    {
      "cell_type": "code",
      "metadata": {
        "id": "WfZy7geEABAq",
        "colab_type": "code",
        "colab": {}
      },
      "source": [
        "my_phone.append(iphone5s_phone_prefs)"
      ],
      "execution_count": 0,
      "outputs": []
    },
    {
      "cell_type": "code",
      "metadata": {
        "id": "sTy7tCgtADi1",
        "colab_type": "code",
        "colab": {
          "base_uri": "https://localhost:8080/",
          "height": 0
        },
        "outputId": "d774381b-8184-47c3-abea-e1d696f0f388"
      },
      "source": [
        "print(my_phone)"
      ],
      "execution_count": 46,
      "outputs": [
        {
          "output_type": "stream",
          "text": [
            "['iPhone 5s', False, 4.3, '3G', ['single_sim', 35000]]\n"
          ],
          "name": "stdout"
        }
      ]
    },
    {
      "cell_type": "code",
      "metadata": {
        "id": "bmn_WL5vAG9Y",
        "colab_type": "code",
        "colab": {}
      },
      "source": [
        "my_phone = ['iPhone 5s', False, 4.3, '3G']"
      ],
      "execution_count": 0,
      "outputs": []
    },
    {
      "cell_type": "code",
      "metadata": {
        "id": "yUgIFUcYAYJA",
        "colab_type": "code",
        "colab": {
          "base_uri": "https://localhost:8080/",
          "height": 0
        },
        "outputId": "a49af204-1ed2-4e5f-9164-b9bbea14e4a4"
      },
      "source": [
        "print(my_phone)"
      ],
      "execution_count": 48,
      "outputs": [
        {
          "output_type": "stream",
          "text": [
            "['iPhone 5s', False, 4.3, '3G']\n"
          ],
          "name": "stdout"
        }
      ]
    },
    {
      "cell_type": "code",
      "metadata": {
        "id": "Epzl9lhvAaYS",
        "colab_type": "code",
        "colab": {}
      },
      "source": [
        "my_phone += iphone5s_phone_prefs"
      ],
      "execution_count": 0,
      "outputs": []
    },
    {
      "cell_type": "code",
      "metadata": {
        "id": "VjUfYDRUAdeF",
        "colab_type": "code",
        "colab": {
          "base_uri": "https://localhost:8080/",
          "height": 0
        },
        "outputId": "80af2340-c401-4bcf-e788-7ee986ff39b9"
      },
      "source": [
        "print(my_phone)"
      ],
      "execution_count": 50,
      "outputs": [
        {
          "output_type": "stream",
          "text": [
            "['iPhone 5s', False, 4.3, '3G', 'single_sim', 35000]\n"
          ],
          "name": "stdout"
        }
      ]
    },
    {
      "cell_type": "code",
      "metadata": {
        "id": "dbaOFkt6AgnQ",
        "colab_type": "code",
        "colab": {
          "base_uri": "https://localhost:8080/",
          "height": 0
        },
        "outputId": "d7c93a88-e101-4966-b372-ccfb7ede5576"
      },
      "source": [
        "for data in my_phone:\n",
        "  print(data)"
      ],
      "execution_count": 51,
      "outputs": [
        {
          "output_type": "stream",
          "text": [
            "iPhone 5s\n",
            "False\n",
            "4.3\n",
            "3G\n",
            "single_sim\n",
            "35000\n"
          ],
          "name": "stdout"
        }
      ]
    },
    {
      "cell_type": "code",
      "metadata": {
        "id": "AQ4ewxjeAwf2",
        "colab_type": "code",
        "colab": {
          "base_uri": "https://localhost:8080/",
          "height": 0
        },
        "outputId": "32f8c52c-f2ab-447e-d943-d49f6cb641c1"
      },
      "source": [
        "print(list(range(5)))"
      ],
      "execution_count": 52,
      "outputs": [
        {
          "output_type": "stream",
          "text": [
            "[0, 1, 2, 3, 4]\n"
          ],
          "name": "stdout"
        }
      ]
    },
    {
      "cell_type": "code",
      "metadata": {
        "id": "i2EeBecEA5KR",
        "colab_type": "code",
        "colab": {}
      },
      "source": [
        "a = list(range(5))"
      ],
      "execution_count": 0,
      "outputs": []
    },
    {
      "cell_type": "code",
      "metadata": {
        "id": "emQyp8lZBRzX",
        "colab_type": "code",
        "colab": {
          "base_uri": "https://localhost:8080/",
          "height": 0
        },
        "outputId": "1c02b8d2-3fbd-4e56-db4e-4a14d5fff696"
      },
      "source": [
        "a"
      ],
      "execution_count": 54,
      "outputs": [
        {
          "output_type": "execute_result",
          "data": {
            "text/plain": [
              "[0, 1, 2, 3, 4]"
            ]
          },
          "metadata": {
            "tags": []
          },
          "execution_count": 54
        }
      ]
    },
    {
      "cell_type": "code",
      "metadata": {
        "id": "y2h3WMg5BSk5",
        "colab_type": "code",
        "colab": {}
      },
      "source": [
        "b = list(map(lambda x: x ** 2, a))"
      ],
      "execution_count": 0,
      "outputs": []
    },
    {
      "cell_type": "code",
      "metadata": {
        "id": "zbSM_PglBasB",
        "colab_type": "code",
        "colab": {
          "base_uri": "https://localhost:8080/",
          "height": 0
        },
        "outputId": "a524c258-6fdb-4c91-8adf-314addcdedad"
      },
      "source": [
        "b"
      ],
      "execution_count": 56,
      "outputs": [
        {
          "output_type": "execute_result",
          "data": {
            "text/plain": [
              "[0, 1, 4, 9, 16]"
            ]
          },
          "metadata": {
            "tags": []
          },
          "execution_count": 56
        }
      ]
    },
    {
      "cell_type": "code",
      "metadata": {
        "id": "MXaDW7MUBbUt",
        "colab_type": "code",
        "colab": {}
      },
      "source": [
        "c = list(filter(lambda x: x % 2 == 0, b))"
      ],
      "execution_count": 0,
      "outputs": []
    },
    {
      "cell_type": "code",
      "metadata": {
        "id": "MeRmNbqjBtQ0",
        "colab_type": "code",
        "colab": {
          "base_uri": "https://localhost:8080/",
          "height": 0
        },
        "outputId": "c43a4fda-1fef-46f1-94fc-e8238889ef86"
      },
      "source": [
        "c"
      ],
      "execution_count": 58,
      "outputs": [
        {
          "output_type": "execute_result",
          "data": {
            "text/plain": [
              "[0, 4, 16]"
            ]
          },
          "metadata": {
            "tags": []
          },
          "execution_count": 58
        }
      ]
    },
    {
      "cell_type": "code",
      "metadata": {
        "id": "k-_X3svSBwkc",
        "colab_type": "code",
        "colab": {}
      },
      "source": [
        ""
      ],
      "execution_count": 0,
      "outputs": []
    },
    {
      "cell_type": "markdown",
      "metadata": {
        "id": "4HPnV19TCizb",
        "colab_type": "text"
      },
      "source": [
        "#Tuples, Set & Dictionary"
      ]
    },
    {
      "cell_type": "code",
      "metadata": {
        "id": "eDtNHpJ0Cm3l",
        "colab_type": "code",
        "colab": {}
      },
      "source": [
        "my_phone_tuple = ('i_phone 5s', False, 4.3)"
      ],
      "execution_count": 0,
      "outputs": []
    },
    {
      "cell_type": "code",
      "metadata": {
        "id": "D3Xg51jkCvyd",
        "colab_type": "code",
        "colab": {
          "base_uri": "https://localhost:8080/",
          "height": 35
        },
        "outputId": "c912bd29-7f8c-409b-86fe-9f44e93412f5"
      },
      "source": [
        "print(my_phone_tuple)"
      ],
      "execution_count": 60,
      "outputs": [
        {
          "output_type": "stream",
          "text": [
            "('i_phone 5s', False, 4.3)\n"
          ],
          "name": "stdout"
        }
      ]
    },
    {
      "cell_type": "code",
      "metadata": {
        "id": "a3b8vok1DZBK",
        "colab_type": "code",
        "colab": {
          "base_uri": "https://localhost:8080/",
          "height": 35
        },
        "outputId": "37db1850-a2e7-4443-e491-f26917f24155"
      },
      "source": [
        "type(my_phone_tuple)"
      ],
      "execution_count": 61,
      "outputs": [
        {
          "output_type": "execute_result",
          "data": {
            "text/plain": [
              "tuple"
            ]
          },
          "metadata": {
            "tags": []
          },
          "execution_count": 61
        }
      ]
    },
    {
      "cell_type": "code",
      "metadata": {
        "id": "msK5JZx9DddF",
        "colab_type": "code",
        "colab": {
          "base_uri": "https://localhost:8080/",
          "height": 35
        },
        "outputId": "1401f570-6040-4a7c-b2f2-c7bdb0e70d20"
      },
      "source": [
        "len(my_phone_tuple)"
      ],
      "execution_count": 62,
      "outputs": [
        {
          "output_type": "execute_result",
          "data": {
            "text/plain": [
              "3"
            ]
          },
          "metadata": {
            "tags": []
          },
          "execution_count": 62
        }
      ]
    },
    {
      "cell_type": "code",
      "metadata": {
        "id": "I9an8Ba4Dhow",
        "colab_type": "code",
        "colab": {
          "base_uri": "https://localhost:8080/",
          "height": 35
        },
        "outputId": "110ea185-5000-4ada-c623-9e75f1f261a1"
      },
      "source": [
        "my_phone_tuple[:]"
      ],
      "execution_count": 63,
      "outputs": [
        {
          "output_type": "execute_result",
          "data": {
            "text/plain": [
              "('i_phone 5s', False, 4.3)"
            ]
          },
          "metadata": {
            "tags": []
          },
          "execution_count": 63
        }
      ]
    },
    {
      "cell_type": "code",
      "metadata": {
        "id": "vAfXECo-DkTO",
        "colab_type": "code",
        "colab": {
          "base_uri": "https://localhost:8080/",
          "height": 35
        },
        "outputId": "78aa2573-b219-455d-f240-c4ab4ed2a7be"
      },
      "source": [
        "my_phone_tuple[0]"
      ],
      "execution_count": 64,
      "outputs": [
        {
          "output_type": "execute_result",
          "data": {
            "text/plain": [
              "'i_phone 5s'"
            ]
          },
          "metadata": {
            "tags": []
          },
          "execution_count": 64
        }
      ]
    },
    {
      "cell_type": "code",
      "metadata": {
        "id": "_AxtQKB7Dmw1",
        "colab_type": "code",
        "colab": {
          "base_uri": "https://localhost:8080/",
          "height": 35
        },
        "outputId": "e7821bf7-3490-4742-f48b-8001bf3bc66f"
      },
      "source": [
        "my_phone_tuple[0:2]"
      ],
      "execution_count": 65,
      "outputs": [
        {
          "output_type": "execute_result",
          "data": {
            "text/plain": [
              "('i_phone 5s', False)"
            ]
          },
          "metadata": {
            "tags": []
          },
          "execution_count": 65
        }
      ]
    },
    {
      "cell_type": "code",
      "metadata": {
        "id": "XlchHUVIDonp",
        "colab_type": "code",
        "colab": {
          "base_uri": "https://localhost:8080/",
          "height": 70
        },
        "outputId": "c264362c-14b1-4086-9758-540f4cd56f24"
      },
      "source": [
        "for data in my_phone_tuple:\n",
        "  print(data)"
      ],
      "execution_count": 66,
      "outputs": [
        {
          "output_type": "stream",
          "text": [
            "i_phone 5s\n",
            "False\n",
            "4.3\n"
          ],
          "name": "stdout"
        }
      ]
    },
    {
      "cell_type": "code",
      "metadata": {
        "id": "FZHNYogdDvmo",
        "colab_type": "code",
        "colab": {
          "base_uri": "https://localhost:8080/",
          "height": 167
        },
        "outputId": "3f1d9f3b-9bc1-411a-b1df-62ac29604189"
      },
      "source": [
        "my_phone_tuple[2] = 4"
      ],
      "execution_count": 67,
      "outputs": [
        {
          "output_type": "error",
          "ename": "TypeError",
          "evalue": "ignored",
          "traceback": [
            "\u001b[0;31m---------------------------------------------------------------------------\u001b[0m",
            "\u001b[0;31mTypeError\u001b[0m                                 Traceback (most recent call last)",
            "\u001b[0;32m<ipython-input-67-01379ee61114>\u001b[0m in \u001b[0;36m<module>\u001b[0;34m()\u001b[0m\n\u001b[0;32m----> 1\u001b[0;31m \u001b[0mmy_phone_tuple\u001b[0m\u001b[0;34m[\u001b[0m\u001b[0;36m2\u001b[0m\u001b[0;34m]\u001b[0m \u001b[0;34m=\u001b[0m \u001b[0;36m4\u001b[0m\u001b[0;34m\u001b[0m\u001b[0;34m\u001b[0m\u001b[0m\n\u001b[0m",
            "\u001b[0;31mTypeError\u001b[0m: 'tuple' object does not support item assignment"
          ]
        }
      ]
    },
    {
      "cell_type": "code",
      "metadata": {
        "id": "TvUKWa2DD-OT",
        "colab_type": "code",
        "colab": {}
      },
      "source": [
        "import time"
      ],
      "execution_count": 0,
      "outputs": []
    },
    {
      "cell_type": "code",
      "metadata": {
        "id": "lNA3-5QTEKwu",
        "colab_type": "code",
        "colab": {}
      },
      "source": [
        "tic = time.time()"
      ],
      "execution_count": 0,
      "outputs": []
    },
    {
      "cell_type": "code",
      "metadata": {
        "id": "OxuncdYGEWjb",
        "colab_type": "code",
        "colab": {
          "base_uri": "https://localhost:8080/",
          "height": 35
        },
        "outputId": "e66ec52b-284e-4e14-ced7-ef61efd179f8"
      },
      "source": [
        "print(tic)"
      ],
      "execution_count": 70,
      "outputs": [
        {
          "output_type": "stream",
          "text": [
            "1566069886.1403475\n"
          ],
          "name": "stdout"
        }
      ]
    },
    {
      "cell_type": "code",
      "metadata": {
        "id": "DZ2U35aSEX8k",
        "colab_type": "code",
        "colab": {}
      },
      "source": [
        "time.time?"
      ],
      "execution_count": 0,
      "outputs": []
    },
    {
      "cell_type": "code",
      "metadata": {
        "id": "1X_NnVg1Eaed",
        "colab_type": "code",
        "colab": {}
      },
      "source": [
        "tic = time.time()\n",
        "#do something that takes time\n",
        "toc = time.time()\n",
        "print(\"Elapsed time in seconds \", toc - tic)"
      ],
      "execution_count": 0,
      "outputs": []
    },
    {
      "cell_type": "code",
      "metadata": {
        "id": "e5w5QJmSE1rw",
        "colab_type": "code",
        "colab": {}
      },
      "source": [
        "my_list = list(range(100000))\n",
        "tic = time.time();\n",
        "my_list_square = map(lambda i: i ** 2, my_list)\n",
        "toc = time.time()\n",
        "print(\"Elapsed time in seconds\", toc - tic)\n"
      ],
      "execution_count": 0,
      "outputs": []
    },
    {
      "cell_type": "code",
      "metadata": {
        "id": "L3gbeeTQ3psl",
        "colab_type": "code",
        "colab": {}
      },
      "source": [
        "my_tuple = tuple(range(100000))\n",
        "tic = time.time()\n",
        "my_tuple_square = map(lambda i: i ** 2, my_tuple)\n",
        "toc = time.time()\n",
        "print(\"Elapsed time in seconds \", toc - tic)"
      ],
      "execution_count": 0,
      "outputs": []
    },
    {
      "cell_type": "code",
      "metadata": {
        "id": "URd-4uka4ehz",
        "colab_type": "code",
        "colab": {}
      },
      "source": [
        "my_set = set(my_phone)"
      ],
      "execution_count": 0,
      "outputs": []
    },
    {
      "cell_type": "code",
      "metadata": {
        "id": "5SpiH1C84xup",
        "colab_type": "code",
        "colab": {}
      },
      "source": [
        "print(my_set)"
      ],
      "execution_count": 0,
      "outputs": []
    },
    {
      "cell_type": "code",
      "metadata": {
        "id": "OdLWEey65PxM",
        "colab_type": "code",
        "colab": {}
      },
      "source": [
        "my_phone.append(4.3)"
      ],
      "execution_count": 0,
      "outputs": []
    },
    {
      "cell_type": "code",
      "metadata": {
        "id": "0MGZ1lxT5SzI",
        "colab_type": "code",
        "colab": {}
      },
      "source": [
        "print(my_phone)"
      ],
      "execution_count": 0,
      "outputs": []
    },
    {
      "cell_type": "code",
      "metadata": {
        "id": "101hD0tc5Usu",
        "colab_type": "code",
        "colab": {}
      },
      "source": [
        "my_set = set(my_phone)"
      ],
      "execution_count": 0,
      "outputs": []
    },
    {
      "cell_type": "code",
      "metadata": {
        "id": "P_CA-oeW5XYR",
        "colab_type": "code",
        "colab": {}
      },
      "source": [
        "print(my_set)"
      ],
      "execution_count": 0,
      "outputs": []
    },
    {
      "cell_type": "code",
      "metadata": {
        "id": "a2m7DXDW5uw4",
        "colab_type": "code",
        "colab": {}
      },
      "source": [
        "my_list = list(range(1000000))\n",
        "tic = time.time()\n",
        "print(13090 in my_list)\n",
        "print(104678 in my_list)\n",
        "print(1000001111 in my_list)\n",
        "toc = time.time()\n",
        "print(\"Elapsed time in seconds \", toc - tic)"
      ],
      "execution_count": 0,
      "outputs": []
    },
    {
      "cell_type": "code",
      "metadata": {
        "id": "BoIk49xx6KdF",
        "colab_type": "code",
        "colab": {}
      },
      "source": [
        "my_tuple = tuple(range(1000000))\n",
        "tic = time.time()\n",
        "print(13090 in my_tuple)\n",
        "print(104678 in my_tuple)\n",
        "print(1000001111 in my_tuple)\n",
        "toc = time.time()\n",
        "print(\"Elapsed time in seconds \", toc - tic)"
      ],
      "execution_count": 0,
      "outputs": []
    },
    {
      "cell_type": "code",
      "metadata": {
        "id": "MVp9Owhf6TUr",
        "colab_type": "code",
        "colab": {}
      },
      "source": [
        "my_set = set(range(1000000))\n",
        "tic = time.time()\n",
        "print(13090 in my_set)\n",
        "print(104678 in my_set)\n",
        "print(1000001111 in my_set)\n",
        "toc = time.time()\n",
        "print(\"Elapsed time in seconds \", toc - tic)"
      ],
      "execution_count": 0,
      "outputs": []
    },
    {
      "cell_type": "code",
      "metadata": {
        "id": "mj0rYT3z6kHT",
        "colab_type": "code",
        "colab": {}
      },
      "source": [
        "my_phone_dict = {}"
      ],
      "execution_count": 0,
      "outputs": []
    },
    {
      "cell_type": "code",
      "metadata": {
        "id": "7AJDsEkE6oKM",
        "colab_type": "code",
        "colab": {}
      },
      "source": [
        "type(my_phone_dict)"
      ],
      "execution_count": 0,
      "outputs": []
    },
    {
      "cell_type": "code",
      "metadata": {
        "id": "G_OQoxUB6ra7",
        "colab_type": "code",
        "colab": {}
      },
      "source": [
        "my_phone_dict['name'] = 'iPhone 5s'\n",
        "my_phone_dict['isAndroid'] = False\n",
        "my_phone_dict['screenSize'] = 4.3"
      ],
      "execution_count": 0,
      "outputs": []
    },
    {
      "cell_type": "code",
      "metadata": {
        "id": "piQuCRM07DpT",
        "colab_type": "code",
        "colab": {}
      },
      "source": [
        "print(my_phone_dict)"
      ],
      "execution_count": 0,
      "outputs": []
    },
    {
      "cell_type": "code",
      "metadata": {
        "id": "jsX2fiVh7JXs",
        "colab_type": "code",
        "colab": {}
      },
      "source": [
        "print(my_phone_dict['name'])"
      ],
      "execution_count": 0,
      "outputs": []
    },
    {
      "cell_type": "code",
      "metadata": {
        "colab_type": "code",
        "id": "_uF1Q1Xo7Ye7",
        "colab": {}
      },
      "source": [
        "print(my_phone_dict.keys())"
      ],
      "execution_count": 0,
      "outputs": []
    },
    {
      "cell_type": "code",
      "metadata": {
        "id": "X6CdanQT7fpW",
        "colab_type": "code",
        "colab": {}
      },
      "source": [
        "print(my_phone_dict.values())"
      ],
      "execution_count": 0,
      "outputs": []
    },
    {
      "cell_type": "code",
      "metadata": {
        "id": "v-XsWSVo7ilV",
        "colab_type": "code",
        "colab": {}
      },
      "source": [
        "print(my_phone_dict.items())"
      ],
      "execution_count": 0,
      "outputs": []
    },
    {
      "cell_type": "code",
      "metadata": {
        "id": "HSVygr8L7nXL",
        "colab_type": "code",
        "colab": {}
      },
      "source": [
        "for key in my_phone_dict.keys():\n",
        "  print(key, my_phone_dict[key])"
      ],
      "execution_count": 0,
      "outputs": []
    },
    {
      "cell_type": "markdown",
      "metadata": {
        "id": "TDVNRGnX8zUL",
        "colab_type": "text"
      },
      "source": [
        "# Packages"
      ]
    },
    {
      "cell_type": "code",
      "metadata": {
        "id": "-2EpB61L82FN",
        "colab_type": "code",
        "colab": {}
      },
      "source": [
        "import math"
      ],
      "execution_count": 0,
      "outputs": []
    },
    {
      "cell_type": "code",
      "metadata": {
        "id": "quuoePRV84Kq",
        "colab_type": "code",
        "colab": {}
      },
      "source": [
        "a = math.sqrt(100)\n",
        "print(a)"
      ],
      "execution_count": 0,
      "outputs": []
    },
    {
      "cell_type": "code",
      "metadata": {
        "id": "noENkMK18_bd",
        "colab_type": "code",
        "colab": {}
      },
      "source": [
        "a = math.pow(100, 0.5)\n",
        "print(a)"
      ],
      "execution_count": 0,
      "outputs": []
    },
    {
      "cell_type": "code",
      "metadata": {
        "id": "LXIOxlQk9F-F",
        "colab_type": "code",
        "colab": {}
      },
      "source": [
        "tic = time.time()\n",
        "x = 100\n",
        "y = 1\n",
        "for i in range(1,x):\n",
        "   y *= i\n",
        "toc = time.time()    \n",
        "print('factorial of', x, 'is ', y)\n",
        "print('Elapsed time in seconds is ', toc - tic)"
      ],
      "execution_count": 0,
      "outputs": []
    },
    {
      "cell_type": "code",
      "metadata": {
        "id": "W5sJvD669wh2",
        "colab_type": "code",
        "colab": {}
      },
      "source": [
        "y = math.factorial(100)"
      ],
      "execution_count": 0,
      "outputs": []
    },
    {
      "cell_type": "code",
      "metadata": {
        "id": "vrZpwikU90Kb",
        "colab_type": "code",
        "colab": {}
      },
      "source": [
        "y"
      ],
      "execution_count": 0,
      "outputs": []
    },
    {
      "cell_type": "code",
      "metadata": {
        "id": "3BnRzv9F906l",
        "colab_type": "code",
        "colab": {}
      },
      "source": [
        "tic = time.time()\n",
        "y = math.factorial(100)\n",
        "toc = time.time()\n",
        "print('factorial of 100 is ', y)\n",
        "print('Elapsed time in seconds is ', toc - tic)"
      ],
      "execution_count": 0,
      "outputs": []
    },
    {
      "cell_type": "code",
      "metadata": {
        "id": "AtXs7JEn-GBZ",
        "colab_type": "code",
        "colab": {}
      },
      "source": [
        "import math as m"
      ],
      "execution_count": 0,
      "outputs": []
    },
    {
      "cell_type": "code",
      "metadata": {
        "id": "SOSSF-Rz-IM3",
        "colab_type": "code",
        "colab": {}
      },
      "source": [
        "y = m.factorial(100)"
      ],
      "execution_count": 0,
      "outputs": []
    },
    {
      "cell_type": "code",
      "metadata": {
        "id": "XPAZqa8x-JzD",
        "colab_type": "code",
        "colab": {}
      },
      "source": [
        "y"
      ],
      "execution_count": 0,
      "outputs": []
    },
    {
      "cell_type": "code",
      "metadata": {
        "id": "7Hd44Tci-KPW",
        "colab_type": "code",
        "colab": {}
      },
      "source": [
        "from math import factorial"
      ],
      "execution_count": 0,
      "outputs": []
    },
    {
      "cell_type": "code",
      "metadata": {
        "id": "N5bmqT00-QGw",
        "colab_type": "code",
        "colab": {}
      },
      "source": [
        "y - factorial(100)"
      ],
      "execution_count": 0,
      "outputs": []
    },
    {
      "cell_type": "code",
      "metadata": {
        "id": "VPSJw7gX-Rrx",
        "colab_type": "code",
        "colab": {}
      },
      "source": [
        "y = factorial(100)"
      ],
      "execution_count": 0,
      "outputs": []
    },
    {
      "cell_type": "code",
      "metadata": {
        "id": "I2Rt1Un1-UcA",
        "colab_type": "code",
        "colab": {}
      },
      "source": [
        "y"
      ],
      "execution_count": 0,
      "outputs": []
    },
    {
      "cell_type": "code",
      "metadata": {
        "id": "TBDQAkg1-Vph",
        "colab_type": "code",
        "colab": {}
      },
      "source": [
        "!echo 'def hello():' > my_first_module.py \n",
        "!echo '    print(\"I am living in different file!!\")' >> my_first_module.py "
      ],
      "execution_count": 0,
      "outputs": []
    },
    {
      "cell_type": "code",
      "metadata": {
        "id": "JhrEuDQR_Qo1",
        "colab_type": "code",
        "colab": {}
      },
      "source": [
        "!cat my_first_module.py"
      ],
      "execution_count": 0,
      "outputs": []
    },
    {
      "cell_type": "code",
      "metadata": {
        "id": "UFHkPopn_XX7",
        "colab_type": "code",
        "colab": {}
      },
      "source": [
        "import my_first_module as mfm"
      ],
      "execution_count": 0,
      "outputs": []
    },
    {
      "cell_type": "code",
      "metadata": {
        "id": "lHy0z4Hk_uBN",
        "colab_type": "code",
        "colab": {}
      },
      "source": [
        "mfm.hello()"
      ],
      "execution_count": 0,
      "outputs": []
    },
    {
      "cell_type": "code",
      "metadata": {
        "id": "7euID9H9_uwB",
        "colab_type": "code",
        "colab": {}
      },
      "source": [
        ""
      ],
      "execution_count": 0,
      "outputs": []
    },
    {
      "cell_type": "markdown",
      "metadata": {
        "id": "KzOmfljhAANM",
        "colab_type": "text"
      },
      "source": [
        "#File Handling"
      ]
    },
    {
      "cell_type": "code",
      "metadata": {
        "id": "Ld9H1TeoACKL",
        "colab_type": "code",
        "colab": {
          "base_uri": "https://localhost:8080/",
          "height": 211
        },
        "outputId": "195e71d4-fe17-4559-9054-2922748ffad1"
      },
      "source": [
        "!wget https://s3.amazonaws.com/thinkific-import/153034/mobile_cleaned-1549119762886.csv"
      ],
      "execution_count": 153,
      "outputs": [
        {
          "output_type": "stream",
          "text": [
            "--2019-08-17 19:51:06--  https://s3.amazonaws.com/thinkific-import/153034/mobile_cleaned-1549119762886.csv\n",
            "Resolving s3.amazonaws.com (s3.amazonaws.com)... 52.216.236.173\n",
            "Connecting to s3.amazonaws.com (s3.amazonaws.com)|52.216.236.173|:443... connected.\n",
            "HTTP request sent, awaiting response... 200 OK\n",
            "Length: 14044 (14K) [text/csv]\n",
            "Saving to: ‘mobile_cleaned-1549119762886.csv’\n",
            "\n",
            "\r          mobile_cl   0%[                    ]       0  --.-KB/s               \rmobile_cleaned-1549 100%[===================>]  13.71K  --.-KB/s    in 0.01s   \n",
            "\n",
            "2019-08-17 19:51:07 (1.01 MB/s) - ‘mobile_cleaned-1549119762886.csv’ saved [14044/14044]\n",
            "\n"
          ],
          "name": "stdout"
        }
      ]
    },
    {
      "cell_type": "code",
      "metadata": {
        "id": "Dv_mpVkXA9Om",
        "colab_type": "code",
        "colab": {}
      },
      "source": [
        "file = open('mobile_cleaned-1549119762886.csv', 'r')"
      ],
      "execution_count": 0,
      "outputs": []
    },
    {
      "cell_type": "code",
      "metadata": {
        "id": "TmFrntLVBH3q",
        "colab_type": "code",
        "colab": {}
      },
      "source": [
        "s = file.readline()"
      ],
      "execution_count": 0,
      "outputs": []
    },
    {
      "cell_type": "code",
      "metadata": {
        "id": "jh2fObz2BOvt",
        "colab_type": "code",
        "colab": {}
      },
      "source": [
        "print(s)"
      ],
      "execution_count": 0,
      "outputs": []
    },
    {
      "cell_type": "code",
      "metadata": {
        "id": "5yUlmjrsBSbp",
        "colab_type": "code",
        "colab": {}
      },
      "source": [
        "print(s.split(','))"
      ],
      "execution_count": 0,
      "outputs": []
    },
    {
      "cell_type": "code",
      "metadata": {
        "id": "sRGn4IWdBW_j",
        "colab_type": "code",
        "colab": {}
      },
      "source": [
        "file.close()"
      ],
      "execution_count": 0,
      "outputs": []
    },
    {
      "cell_type": "code",
      "metadata": {
        "id": "Dj4Hh9fTBmRm",
        "colab_type": "code",
        "colab": {}
      },
      "source": [
        "with open('mobile_cleaned-1549119762886.csv', 'r') as file:\n",
        "    print(file.read())"
      ],
      "execution_count": 0,
      "outputs": []
    },
    {
      "cell_type": "code",
      "metadata": {
        "id": "r3adFPS-BvyY",
        "colab_type": "code",
        "colab": {}
      },
      "source": [
        "with open('mobile_cleaned-1549119762886.csv', 'r') as file:\n",
        "  for line in file:\n",
        "      for word in line.split(','):\n",
        "        print(word)\n",
        "      print('--------')"
      ],
      "execution_count": 0,
      "outputs": []
    },
    {
      "cell_type": "code",
      "metadata": {
        "id": "FciIY1UACOXp",
        "colab_type": "code",
        "colab": {}
      },
      "source": [
        "with open('my_first_file_output.txt', 'w') as file:\n",
        "  file.write('This is my first output file')"
      ],
      "execution_count": 0,
      "outputs": []
    },
    {
      "cell_type": "code",
      "metadata": {
        "id": "RbznxBifCkfj",
        "colab_type": "code",
        "colab": {}
      },
      "source": [
        "!cat my_first_file_output.txt"
      ],
      "execution_count": 0,
      "outputs": []
    },
    {
      "cell_type": "code",
      "metadata": {
        "id": "npU14L5SCm22",
        "colab_type": "code",
        "colab": {}
      },
      "source": [
        ""
      ],
      "execution_count": 0,
      "outputs": []
    },
    {
      "cell_type": "markdown",
      "metadata": {
        "id": "hRVN44SZC2BF",
        "colab_type": "text"
      },
      "source": [
        "#Python Classes"
      ]
    },
    {
      "cell_type": "code",
      "metadata": {
        "id": "EWwodmS5C515",
        "colab_type": "code",
        "colab": {}
      },
      "source": [
        "class MobilePhone:\n",
        "  \"\"\" This is my first doc to write python class\"\"\"\n",
        "  def __init__(self, name, is_android = False, screenSize = 4.3):\n",
        "    self.name = name\n",
        "    self.is_android = is_android\n",
        "    self.screenSize = screenSize\n",
        "    self.rating = -1\n",
        "  \n",
        "  def has_ratings(self):\n",
        "    return self.rating > -1"
      ],
      "execution_count": 0,
      "outputs": []
    },
    {
      "cell_type": "code",
      "metadata": {
        "id": "h9oVRXCYDDaY",
        "colab_type": "code",
        "colab": {}
      },
      "source": [
        "new_phone = MobilePhone('iPhone 5s')"
      ],
      "execution_count": 0,
      "outputs": []
    },
    {
      "cell_type": "code",
      "metadata": {
        "id": "-DXaIODyDGgO",
        "colab_type": "code",
        "colab": {
          "base_uri": "https://localhost:8080/",
          "height": 35
        },
        "outputId": "4a32224f-c7d1-479b-f5eb-a2e058487134"
      },
      "source": [
        "type(new_phone)"
      ],
      "execution_count": 74,
      "outputs": [
        {
          "output_type": "execute_result",
          "data": {
            "text/plain": [
              "__main__.MobilePhone"
            ]
          },
          "metadata": {
            "tags": []
          },
          "execution_count": 74
        }
      ]
    },
    {
      "cell_type": "code",
      "metadata": {
        "id": "cPdD6l9YDH5k",
        "colab_type": "code",
        "colab": {
          "base_uri": "https://localhost:8080/",
          "height": 35
        },
        "outputId": "4ebfd456-5079-444d-a001-c1949770d0b3"
      },
      "source": [
        "print(new_phone.name, new_phone.is_android, new_phone.screenSize)"
      ],
      "execution_count": 75,
      "outputs": [
        {
          "output_type": "stream",
          "text": [
            "iPhone 5s False 4.3\n"
          ],
          "name": "stdout"
        }
      ]
    },
    {
      "cell_type": "code",
      "metadata": {
        "id": "9vsedmw4D5dJ",
        "colab_type": "code",
        "colab": {
          "base_uri": "https://localhost:8080/",
          "height": 35
        },
        "outputId": "df6bee68-cb00-46bb-a1eb-00c52c9145a8"
      },
      "source": [
        "new_phone.has_ratings()"
      ],
      "execution_count": 76,
      "outputs": [
        {
          "output_type": "execute_result",
          "data": {
            "text/plain": [
              "False"
            ]
          },
          "metadata": {
            "tags": []
          },
          "execution_count": 76
        }
      ]
    },
    {
      "cell_type": "code",
      "metadata": {
        "id": "IMl8SNRuEqYJ",
        "colab_type": "code",
        "colab": {}
      },
      "source": [
        "new_phone.rating = 3.9"
      ],
      "execution_count": 0,
      "outputs": []
    },
    {
      "cell_type": "code",
      "metadata": {
        "id": "fnpelkcUFJSN",
        "colab_type": "code",
        "colab": {
          "base_uri": "https://localhost:8080/",
          "height": 35
        },
        "outputId": "6b4039aa-6ed2-42c5-fdd5-6e56c0bfa093"
      },
      "source": [
        "MobilePhone.__doc__"
      ],
      "execution_count": 78,
      "outputs": [
        {
          "output_type": "execute_result",
          "data": {
            "text/plain": [
              "' This is my first doc to write python class'"
            ]
          },
          "metadata": {
            "tags": []
          },
          "execution_count": 78
        }
      ]
    },
    {
      "cell_type": "code",
      "metadata": {
        "id": "3k3G9pY-FcLY",
        "colab_type": "code",
        "colab": {}
      },
      "source": [
        "class iPhone(MobilePhone):\n",
        "  def __init__(self, name):\n",
        "    MobilePhone.__init__(self, name, False, 4)\n",
        "    \n",
        "  def __str__(self):\n",
        "    return self.name + \" \" + str(self.is_android) + \" \" + str(self.screenSize)"
      ],
      "execution_count": 0,
      "outputs": []
    },
    {
      "cell_type": "code",
      "metadata": {
        "id": "GPl1j452FsIR",
        "colab_type": "code",
        "colab": {}
      },
      "source": [
        "new_iphone = iPhone('iPhone 5s')"
      ],
      "execution_count": 0,
      "outputs": []
    },
    {
      "cell_type": "code",
      "metadata": {
        "id": "Tn9YC3imFybL",
        "colab_type": "code",
        "colab": {
          "base_uri": "https://localhost:8080/",
          "height": 35
        },
        "outputId": "b273b10f-db16-4aaa-c28b-fbd60852eb4a"
      },
      "source": [
        "new_iphone.is_android"
      ],
      "execution_count": 81,
      "outputs": [
        {
          "output_type": "execute_result",
          "data": {
            "text/plain": [
              "False"
            ]
          },
          "metadata": {
            "tags": []
          },
          "execution_count": 81
        }
      ]
    },
    {
      "cell_type": "code",
      "metadata": {
        "id": "1YbGlNy8F1UJ",
        "colab_type": "code",
        "colab": {
          "base_uri": "https://localhost:8080/",
          "height": 35
        },
        "outputId": "e8bc2d86-59d3-4643-c528-6df3faf02b34"
      },
      "source": [
        "new_iphone.__str__()"
      ],
      "execution_count": 82,
      "outputs": [
        {
          "output_type": "execute_result",
          "data": {
            "text/plain": [
              "'iPhone 5s False 4'"
            ]
          },
          "metadata": {
            "tags": []
          },
          "execution_count": 82
        }
      ]
    },
    {
      "cell_type": "code",
      "metadata": {
        "id": "qMHD-U-XGPfx",
        "colab_type": "code",
        "colab": {}
      },
      "source": [
        ""
      ],
      "execution_count": 0,
      "outputs": []
    },
    {
      "cell_type": "markdown",
      "metadata": {
        "id": "Cn3eom0pCt4F",
        "colab_type": "text"
      },
      "source": [
        "#NumPy"
      ]
    },
    {
      "cell_type": "code",
      "metadata": {
        "id": "RceEhyzyCv37",
        "colab_type": "code",
        "colab": {}
      },
      "source": [
        "import numpy as np"
      ],
      "execution_count": 0,
      "outputs": []
    },
    {
      "cell_type": "code",
      "metadata": {
        "id": "v8WtvoySCzGz",
        "colab_type": "code",
        "colab": {}
      },
      "source": [
        "X = np.array([1,2,3])"
      ],
      "execution_count": 0,
      "outputs": []
    },
    {
      "cell_type": "code",
      "metadata": {
        "id": "0G1K28VdC2Ym",
        "colab_type": "code",
        "colab": {
          "base_uri": "https://localhost:8080/",
          "height": 35
        },
        "outputId": "7c176b5a-3683-42c9-fe04-de5f51616178"
      },
      "source": [
        "type(X)\n"
      ],
      "execution_count": 85,
      "outputs": [
        {
          "output_type": "execute_result",
          "data": {
            "text/plain": [
              "numpy.ndarray"
            ]
          },
          "metadata": {
            "tags": []
          },
          "execution_count": 85
        }
      ]
    },
    {
      "cell_type": "code",
      "metadata": {
        "id": "THN31Cy9C3ek",
        "colab_type": "code",
        "colab": {
          "base_uri": "https://localhost:8080/",
          "height": 35
        },
        "outputId": "7f614845-2ffd-4616-dc78-bced3923372d"
      },
      "source": [
        "print(X)"
      ],
      "execution_count": 86,
      "outputs": [
        {
          "output_type": "stream",
          "text": [
            "[1 2 3]\n"
          ],
          "name": "stdout"
        }
      ]
    },
    {
      "cell_type": "code",
      "metadata": {
        "id": "rinalNAbC5OK",
        "colab_type": "code",
        "colab": {}
      },
      "source": [
        "l = [4, 5, 10]"
      ],
      "execution_count": 0,
      "outputs": []
    },
    {
      "cell_type": "code",
      "metadata": {
        "id": "pLMClXg5C9Qg",
        "colab_type": "code",
        "colab": {}
      },
      "source": [
        "X = np.array(l)"
      ],
      "execution_count": 0,
      "outputs": []
    },
    {
      "cell_type": "code",
      "metadata": {
        "id": "uKoZXfHbC_eR",
        "colab_type": "code",
        "colab": {
          "base_uri": "https://localhost:8080/",
          "height": 35
        },
        "outputId": "0c76a741-c19c-4c9b-c0bd-4dfa573f50b6"
      },
      "source": [
        "type(X)"
      ],
      "execution_count": 89,
      "outputs": [
        {
          "output_type": "execute_result",
          "data": {
            "text/plain": [
              "numpy.ndarray"
            ]
          },
          "metadata": {
            "tags": []
          },
          "execution_count": 89
        }
      ]
    },
    {
      "cell_type": "code",
      "metadata": {
        "id": "0gQIDACIDAM7",
        "colab_type": "code",
        "colab": {
          "base_uri": "https://localhost:8080/",
          "height": 35
        },
        "outputId": "7a1e7dca-6042-4364-e8a6-2d75e232cf21"
      },
      "source": [
        "print(X)"
      ],
      "execution_count": 90,
      "outputs": [
        {
          "output_type": "stream",
          "text": [
            "[ 4  5 10]\n"
          ],
          "name": "stdout"
        }
      ]
    },
    {
      "cell_type": "code",
      "metadata": {
        "id": "eqJ9z-KUDAxA",
        "colab_type": "code",
        "colab": {}
      },
      "source": [
        "X = np.asarray(l, float)"
      ],
      "execution_count": 0,
      "outputs": []
    },
    {
      "cell_type": "code",
      "metadata": {
        "id": "qz0_fnoFDEw-",
        "colab_type": "code",
        "colab": {
          "base_uri": "https://localhost:8080/",
          "height": 35
        },
        "outputId": "ca737a10-32c9-4ee1-d658-829537254f0e"
      },
      "source": [
        "X\n"
      ],
      "execution_count": 92,
      "outputs": [
        {
          "output_type": "execute_result",
          "data": {
            "text/plain": [
              "array([ 4.,  5., 10.])"
            ]
          },
          "metadata": {
            "tags": []
          },
          "execution_count": 92
        }
      ]
    },
    {
      "cell_type": "code",
      "metadata": {
        "id": "C9-E_Gz-DFPT",
        "colab_type": "code",
        "colab": {
          "base_uri": "https://localhost:8080/",
          "height": 35
        },
        "outputId": "79da3b55-bb5e-43cb-eed0-9c9cefb7aa94"
      },
      "source": [
        "X.shape"
      ],
      "execution_count": 94,
      "outputs": [
        {
          "output_type": "execute_result",
          "data": {
            "text/plain": [
              "(3,)"
            ]
          },
          "metadata": {
            "tags": []
          },
          "execution_count": 94
        }
      ]
    },
    {
      "cell_type": "code",
      "metadata": {
        "id": "0hdqbicrDHOv",
        "colab_type": "code",
        "colab": {}
      },
      "source": [
        "np.array?\n"
      ],
      "execution_count": 0,
      "outputs": []
    },
    {
      "cell_type": "code",
      "metadata": {
        "id": "TpeZ7TF1DNWU",
        "colab_type": "code",
        "colab": {}
      },
      "source": [
        "X = np.array([[1, 2, 3], [4, 5, 6]])"
      ],
      "execution_count": 0,
      "outputs": []
    },
    {
      "cell_type": "code",
      "metadata": {
        "id": "IBlU77QJDYQS",
        "colab_type": "code",
        "colab": {
          "base_uri": "https://localhost:8080/",
          "height": 52
        },
        "outputId": "20094e17-090e-48b5-f2b4-8a6167cd3cd8"
      },
      "source": [
        "X "
      ],
      "execution_count": 97,
      "outputs": [
        {
          "output_type": "execute_result",
          "data": {
            "text/plain": [
              "array([[1, 2, 3],\n",
              "       [4, 5, 6]])"
            ]
          },
          "metadata": {
            "tags": []
          },
          "execution_count": 97
        }
      ]
    },
    {
      "cell_type": "code",
      "metadata": {
        "id": "8Q4deoNNDYss",
        "colab_type": "code",
        "colab": {
          "base_uri": "https://localhost:8080/",
          "height": 52
        },
        "outputId": "bfbf2bc9-b0ab-4f91-8554-14836b9ca892"
      },
      "source": [
        "print(X)"
      ],
      "execution_count": 98,
      "outputs": [
        {
          "output_type": "stream",
          "text": [
            "[[1 2 3]\n",
            " [4 5 6]]\n"
          ],
          "name": "stdout"
        }
      ]
    },
    {
      "cell_type": "code",
      "metadata": {
        "id": "jY9qJoBYDjDP",
        "colab_type": "code",
        "colab": {
          "base_uri": "https://localhost:8080/",
          "height": 35
        },
        "outputId": "4b344602-e36a-49ff-e565-7134ade7c872"
      },
      "source": [
        "X. shape"
      ],
      "execution_count": 99,
      "outputs": [
        {
          "output_type": "execute_result",
          "data": {
            "text/plain": [
              "(2, 3)"
            ]
          },
          "metadata": {
            "tags": []
          },
          "execution_count": 99
        }
      ]
    },
    {
      "cell_type": "code",
      "metadata": {
        "id": "DaOhzOahDkh8",
        "colab_type": "code",
        "colab": {
          "base_uri": "https://localhost:8080/",
          "height": 35
        },
        "outputId": "355812ed-d642-43ba-8ea9-c8eef316484f"
      },
      "source": [
        "X[0,0]"
      ],
      "execution_count": 100,
      "outputs": [
        {
          "output_type": "execute_result",
          "data": {
            "text/plain": [
              "1"
            ]
          },
          "metadata": {
            "tags": []
          },
          "execution_count": 100
        }
      ]
    },
    {
      "cell_type": "code",
      "metadata": {
        "id": "3XWxFyloDud6",
        "colab_type": "code",
        "colab": {}
      },
      "source": [
        "X = np.zeros((4,5))"
      ],
      "execution_count": 0,
      "outputs": []
    },
    {
      "cell_type": "code",
      "metadata": {
        "id": "2eqEiHZoD-PU",
        "colab_type": "code",
        "colab": {
          "base_uri": "https://localhost:8080/",
          "height": 87
        },
        "outputId": "50e99cf4-429d-43b9-b056-369a165e037d"
      },
      "source": [
        "X"
      ],
      "execution_count": 103,
      "outputs": [
        {
          "output_type": "execute_result",
          "data": {
            "text/plain": [
              "array([[0., 0., 0., 0., 0.],\n",
              "       [0., 0., 0., 0., 0.],\n",
              "       [0., 0., 0., 0., 0.],\n",
              "       [0., 0., 0., 0., 0.]])"
            ]
          },
          "metadata": {
            "tags": []
          },
          "execution_count": 103
        }
      ]
    },
    {
      "cell_type": "code",
      "metadata": {
        "id": "srvWbh40ECL-",
        "colab_type": "code",
        "colab": {}
      },
      "source": [
        "X = np.eye(4,5)"
      ],
      "execution_count": 0,
      "outputs": []
    },
    {
      "cell_type": "code",
      "metadata": {
        "id": "TkhaSTO7EFLm",
        "colab_type": "code",
        "colab": {
          "base_uri": "https://localhost:8080/",
          "height": 87
        },
        "outputId": "033c84f5-1d00-4f87-9d45-e881f9153227"
      },
      "source": [
        "print(X)"
      ],
      "execution_count": 106,
      "outputs": [
        {
          "output_type": "stream",
          "text": [
            "[[1. 0. 0. 0. 0.]\n",
            " [0. 1. 0. 0. 0.]\n",
            " [0. 0. 1. 0. 0.]\n",
            " [0. 0. 0. 1. 0.]]\n"
          ],
          "name": "stdout"
        }
      ]
    },
    {
      "cell_type": "code",
      "metadata": {
        "id": "YLtr9v3FEJzC",
        "colab_type": "code",
        "colab": {}
      },
      "source": [
        "X = np.random.random((4,5))"
      ],
      "execution_count": 0,
      "outputs": []
    },
    {
      "cell_type": "code",
      "metadata": {
        "id": "YtWtU5RWEQE_",
        "colab_type": "code",
        "colab": {
          "base_uri": "https://localhost:8080/",
          "height": 158
        },
        "outputId": "cb2cfae4-0bfd-4e90-c671-092fe7e24636"
      },
      "source": [
        "print(X)"
      ],
      "execution_count": 109,
      "outputs": [
        {
          "output_type": "stream",
          "text": [
            "[[9.55936281e-01 2.79754099e-02 3.85164551e-02 2.56772758e-01\n",
            "  1.08969464e-01]\n",
            " [7.67671279e-01 2.09482507e-01 5.08279435e-01 2.87456694e-01\n",
            "  2.44196627e-01]\n",
            " [2.71673566e-01 8.60072577e-01 6.94388098e-01 1.51687224e-01\n",
            "  9.41064984e-01]\n",
            " [5.79078180e-01 5.32985868e-01 7.70109854e-01 5.78298618e-04\n",
            "  6.30318222e-01]]\n"
          ],
          "name": "stdout"
        }
      ]
    },
    {
      "cell_type": "code",
      "metadata": {
        "id": "t06VvTXMERP9",
        "colab_type": "code",
        "colab": {}
      },
      "source": [
        "Z = X.T\n"
      ],
      "execution_count": 0,
      "outputs": []
    },
    {
      "cell_type": "code",
      "metadata": {
        "id": "rlxI_G4WEX0E",
        "colab_type": "code",
        "colab": {
          "base_uri": "https://localhost:8080/",
          "height": 105
        },
        "outputId": "ce3cb699-3c80-445a-b837-ec44ade4c459"
      },
      "source": [
        "print(Z)"
      ],
      "execution_count": 111,
      "outputs": [
        {
          "output_type": "stream",
          "text": [
            "[[9.55936281e-01 7.67671279e-01 2.71673566e-01 5.79078180e-01]\n",
            " [2.79754099e-02 2.09482507e-01 8.60072577e-01 5.32985868e-01]\n",
            " [3.85164551e-02 5.08279435e-01 6.94388098e-01 7.70109854e-01]\n",
            " [2.56772758e-01 2.87456694e-01 1.51687224e-01 5.78298618e-04]\n",
            " [1.08969464e-01 2.44196627e-01 9.41064984e-01 6.30318222e-01]]\n"
          ],
          "name": "stdout"
        }
      ]
    },
    {
      "cell_type": "code",
      "metadata": {
        "id": "fNzuNZ6HEZqs",
        "colab_type": "code",
        "colab": {}
      },
      "source": [
        "Y = X.reshape(20,1)"
      ],
      "execution_count": 0,
      "outputs": []
    },
    {
      "cell_type": "code",
      "metadata": {
        "id": "E7mY-3qNEiLl",
        "colab_type": "code",
        "colab": {
          "base_uri": "https://localhost:8080/",
          "height": 369
        },
        "outputId": "a8f9fafc-e031-48bd-b338-bea2f030158c"
      },
      "source": [
        "print(Y)"
      ],
      "execution_count": 113,
      "outputs": [
        {
          "output_type": "stream",
          "text": [
            "[[9.55936281e-01]\n",
            " [2.79754099e-02]\n",
            " [3.85164551e-02]\n",
            " [2.56772758e-01]\n",
            " [1.08969464e-01]\n",
            " [7.67671279e-01]\n",
            " [2.09482507e-01]\n",
            " [5.08279435e-01]\n",
            " [2.87456694e-01]\n",
            " [2.44196627e-01]\n",
            " [2.71673566e-01]\n",
            " [8.60072577e-01]\n",
            " [6.94388098e-01]\n",
            " [1.51687224e-01]\n",
            " [9.41064984e-01]\n",
            " [5.79078180e-01]\n",
            " [5.32985868e-01]\n",
            " [7.70109854e-01]\n",
            " [5.78298618e-04]\n",
            " [6.30318222e-01]]\n"
          ],
          "name": "stdout"
        }
      ]
    },
    {
      "cell_type": "code",
      "metadata": {
        "id": "mwFmKeM1Ejvu",
        "colab_type": "code",
        "colab": {}
      },
      "source": [
        "A = np.floor(np.random.random((2,3)))"
      ],
      "execution_count": 0,
      "outputs": []
    },
    {
      "cell_type": "code",
      "metadata": {
        "id": "9htM6CzEFIj2",
        "colab_type": "code",
        "colab": {
          "base_uri": "https://localhost:8080/",
          "height": 52
        },
        "outputId": "811e0a30-5725-4fee-bf7d-e9aadd246139"
      },
      "source": [
        "print(A)"
      ],
      "execution_count": 117,
      "outputs": [
        {
          "output_type": "stream",
          "text": [
            "[[0. 0. 0.]\n",
            " [0. 0. 0.]]\n"
          ],
          "name": "stdout"
        }
      ]
    },
    {
      "cell_type": "code",
      "metadata": {
        "id": "9NXQTLrQFPya",
        "colab_type": "code",
        "colab": {
          "base_uri": "https://localhost:8080/",
          "height": 35
        },
        "outputId": "b9b98089-633a-4717-ba0a-49b0785cfece"
      },
      "source": [
        "U = [1, 2, 3]\n",
        "V = [-1, 0 , 1]\n",
        "p1 = np.inner(U,V)\n",
        "print(p1)"
      ],
      "execution_count": 119,
      "outputs": [
        {
          "output_type": "stream",
          "text": [
            "2\n"
          ],
          "name": "stdout"
        }
      ]
    },
    {
      "cell_type": "code",
      "metadata": {
        "id": "U-icF4O0Ff7q",
        "colab_type": "code",
        "colab": {
          "base_uri": "https://localhost:8080/",
          "height": 70
        },
        "outputId": "52cb7381-ef25-4260-c5a9-b8957831d285"
      },
      "source": [
        "p2 = np.outer(U,V)\n",
        "print(p2)"
      ],
      "execution_count": 120,
      "outputs": [
        {
          "output_type": "stream",
          "text": [
            "[[-1  0  1]\n",
            " [-2  0  2]\n",
            " [-3  0  3]]\n"
          ],
          "name": "stdout"
        }
      ]
    },
    {
      "cell_type": "markdown",
      "metadata": {
        "id": "QV7UE-OjGLe5",
        "colab_type": "text"
      },
      "source": [
        "#Basic Plotting"
      ]
    },
    {
      "cell_type": "code",
      "metadata": {
        "id": "6YeU4UcQGOIl",
        "colab_type": "code",
        "colab": {}
      },
      "source": [
        "  import matplotlib.pyplot as plt"
      ],
      "execution_count": 0,
      "outputs": []
    },
    {
      "cell_type": "code",
      "metadata": {
        "id": "20a84b6AGVa1",
        "colab_type": "code",
        "colab": {}
      },
      "source": [
        "X = np.random.random((10,1))"
      ],
      "execution_count": 0,
      "outputs": []
    },
    {
      "cell_type": "code",
      "metadata": {
        "id": "03wFw3gzGZjx",
        "colab_type": "code",
        "colab": {
          "base_uri": "https://localhost:8080/",
          "height": 193
        },
        "outputId": "29973bc4-e3cb-4bae-fbb7-d905d5721786"
      },
      "source": [
        "print(X)"
      ],
      "execution_count": 123,
      "outputs": [
        {
          "output_type": "stream",
          "text": [
            "[[0.20712393]\n",
            " [0.56219817]\n",
            " [0.34200155]\n",
            " [0.97363447]\n",
            " [0.66447618]\n",
            " [0.88169339]\n",
            " [0.83978767]\n",
            " [0.11763866]\n",
            " [0.72618747]\n",
            " [0.44889886]]\n"
          ],
          "name": "stdout"
        }
      ]
    },
    {
      "cell_type": "code",
      "metadata": {
        "id": "2bbR2xXpGaqR",
        "colab_type": "code",
        "colab": {
          "base_uri": "https://localhost:8080/",
          "height": 269
        },
        "outputId": "ca821178-4f01-43e9-db24-255507bf7d42"
      },
      "source": [
        "plt.plot(X, '*-')\n",
        "plt.show()"
      ],
      "execution_count": 128,
      "outputs": [
        {
          "output_type": "display_data",
          "data": {
            "image/png": "[encoded data removed]",
            "text/plain": [
              "<Figure size 432x288 with 1 Axes>"
            ]
          },
          "metadata": {
            "tags": []
          }
        }
      ]
    },
    {
      "cell_type": "code",
      "metadata": {
        "id": "9FUGii0PGhiD",
        "colab_type": "code",
        "colab": {}
      },
      "source": [
        "x = np.linspace(0, 100, 50)\n",
        "y = np.power(x, 2)"
      ],
      "execution_count": 0,
      "outputs": []
    },
    {
      "cell_type": "code",
      "metadata": {
        "id": "4YkkyB9vG6N7",
        "colab_type": "code",
        "colab": {
          "base_uri": "https://localhost:8080/",
          "height": 269
        },
        "outputId": "b66a6645-59ba-4bac-f7ca-592956d49165"
      },
      "source": [
        "plt.plot(x, y, '*')\n",
        "plt.show()"
      ],
      "execution_count": 143,
      "outputs": [
        {
          "output_type": "display_data",
          "data": {
            "image/png": "[encoded data removed]",
            "text/plain": [
              "<Figure size 432x288 with 1 Axes>"
            ]
          },
          "metadata": {
            "tags": []
          }
        }
      ]
    },
    {
      "cell_type": "code",
      "metadata": {
        "id": "mkN6Zqe6G9DI",
        "colab_type": "code",
        "colab": {}
      },
      "source": [
        "import seaborn as sns"
      ],
      "execution_count": 0,
      "outputs": []
    },
    {
      "cell_type": "code",
      "metadata": {
        "id": "hMDqytEqHnRt",
        "colab_type": "code",
        "colab": {}
      },
      "source": [
        "sns.set()"
      ],
      "execution_count": 0,
      "outputs": []
    },
    {
      "cell_type": "code",
      "metadata": {
        "id": "RgYHn32fHoUz",
        "colab_type": "code",
        "colab": {
          "base_uri": "https://localhost:8080/",
          "height": 248
        },
        "outputId": "63d5c5ef-faa0-4ea8-ed8d-4aefaf0eddc6"
      },
      "source": [
        "!pip install seaborn==0.9.0"
      ],
      "execution_count": 149,
      "outputs": [
        {
          "output_type": "stream",
          "text": [
            "Requirement already satisfied: seaborn==0.9.0 in /usr/local/lib/python3.6/dist-packages (0.9.0)\n",
            "Requirement already satisfied: scipy>=0.14.0 in /usr/local/lib/python3.6/dist-packages (from seaborn==0.9.0) (1.3.1)\n",
            "Requirement already satisfied: numpy>=1.9.3 in /usr/local/lib/python3.6/dist-packages (from seaborn==0.9.0) (1.16.4)\n",
            "Requirement already satisfied: pandas>=0.15.2 in /usr/local/lib/python3.6/dist-packages (from seaborn==0.9.0) (0.24.2)\n",
            "Requirement already satisfied: matplotlib>=1.4.3 in /usr/local/lib/python3.6/dist-packages (from seaborn==0.9.0) (3.0.3)\n",
            "Requirement already satisfied: pytz>=2011k in /usr/local/lib/python3.6/dist-packages (from pandas>=0.15.2->seaborn==0.9.0) (2018.9)\n",
            "Requirement already satisfied: python-dateutil>=2.5.0 in /usr/local/lib/python3.6/dist-packages (from pandas>=0.15.2->seaborn==0.9.0) (2.5.3)\n",
            "Requirement already satisfied: kiwisolver>=1.0.1 in /usr/local/lib/python3.6/dist-packages (from matplotlib>=1.4.3->seaborn==0.9.0) (1.1.0)\n",
            "Requirement already satisfied: cycler>=0.10 in /usr/local/lib/python3.6/dist-packages (from matplotlib>=1.4.3->seaborn==0.9.0) (0.10.0)\n",
            "Requirement already satisfied: pyparsing!=2.0.4,!=2.1.2,!=2.1.6,>=2.0.1 in /usr/local/lib/python3.6/dist-packages (from matplotlib>=1.4.3->seaborn==0.9.0) (2.4.2)\n",
            "Requirement already satisfied: six>=1.5 in /usr/local/lib/python3.6/dist-packages (from python-dateutil>=2.5.0->pandas>=0.15.2->seaborn==0.9.0) (1.12.0)\n",
            "Requirement already satisfied: setuptools in /usr/local/lib/python3.6/dist-packages (from kiwisolver>=1.0.1->matplotlib>=1.4.3->seaborn==0.9.0) (41.0.1)\n"
          ],
          "name": "stdout"
        }
      ]
    },
    {
      "cell_type": "code",
      "metadata": {
        "id": "thjq396aH179",
        "colab_type": "code",
        "colab": {
          "base_uri": "https://localhost:8080/",
          "height": 274
        },
        "outputId": "158503ed-cacb-4711-f2d6-e50ee38f2331"
      },
      "source": [
        "sns.lineplot(x,y)\n",
        "plt.show()"
      ],
      "execution_count": 151,
      "outputs": [
        {
          "output_type": "display_data",
          "data": {
            "image/png": "[encoded data removed]",
            "text/plain": [
              "<Figure size 432x288 with 1 Axes>"
            ]
          },
          "metadata": {
            "tags": []
          }
        }
      ]
    },
    {
      "cell_type": "code",
      "metadata": {
        "id": "mTWGNuAmIGB1",
        "colab_type": "code",
        "colab": {
          "base_uri": "https://localhost:8080/",
          "height": 35
        },
        "outputId": "848eb7e0-889b-4d3e-8667-45087f87d81b"
      },
      "source": [
        "!ls\n"
      ],
      "execution_count": 154,
      "outputs": [
        {
          "output_type": "stream",
          "text": [
            "mobile_cleaned-1549119762886.csv  sample_data\n"
          ],
          "name": "stdout"
        }
      ]
    },
    {
      "cell_type": "code",
      "metadata": {
        "id": "tyD5dn1nIcvq",
        "colab_type": "code",
        "colab": {}
      },
      "source": [
        "import pandas as pd"
      ],
      "execution_count": 0,
      "outputs": []
    },
    {
      "cell_type": "code",
      "metadata": {
        "id": "6LKx_wrcIr3O",
        "colab_type": "code",
        "colab": {}
      },
      "source": [
        "data = pd.read_csv('mobile_cleaned-1549119762886.csv')"
      ],
      "execution_count": 0,
      "outputs": []
    },
    {
      "cell_type": "code",
      "metadata": {
        "id": "49AOyjrJIwK1",
        "colab_type": "code",
        "colab": {
          "base_uri": "https://localhost:8080/",
          "height": 223
        },
        "outputId": "d15f58fa-35cb-41c2-db02-bd5c321ac991"
      },
      "source": [
        "data.head()"
      ],
      "execution_count": 157,
      "outputs": [
        {
          "output_type": "execute_result",
          "data": {
            "text/html": [
              "<div>\n",
              "<style scoped>\n",
              "    .dataframe tbody tr th:only-of-type {\n",
              "        vertical-align: middle;\n",
              "    }\n",
              "\n",
              "    .dataframe tbody tr th {\n",
              "        vertical-align: top;\n",
              "    }\n",
              "\n",
              "    .dataframe thead th {\n",
              "        text-align: right;\n",
              "    }\n",
              "</style>\n",
              "<table border=\"1\" class=\"dataframe\">\n",
              "  <thead>\n",
              "    <tr style=\"text-align: right;\">\n",
              "      <th></th>\n",
              "      <th>sim_type</th>\n",
              "      <th>aperture</th>\n",
              "      <th>gpu_rank</th>\n",
              "      <th>weight</th>\n",
              "      <th>stand_by_time</th>\n",
              "      <th>processor_frequency</th>\n",
              "      <th>thickness</th>\n",
              "      <th>flash_type</th>\n",
              "      <th>front_camera_resolution</th>\n",
              "      <th>auto_focus</th>\n",
              "      <th>screen_size</th>\n",
              "      <th>frames_per_second</th>\n",
              "      <th>FM</th>\n",
              "      <th>no_of_reviews_in_gsmarena_in_week</th>\n",
              "      <th>os</th>\n",
              "      <th>phone_height</th>\n",
              "      <th>screen_protection</th>\n",
              "      <th>sim_size</th>\n",
              "      <th>price</th>\n",
              "      <th>talk_time</th>\n",
              "      <th>video_resolution</th>\n",
              "      <th>display_resolution</th>\n",
              "      <th>removable_battery</th>\n",
              "      <th>display_type</th>\n",
              "      <th>primary_camera_resolution</th>\n",
              "      <th>battery_type</th>\n",
              "      <th>ram_memory</th>\n",
              "      <th>internal_memory</th>\n",
              "      <th>brand_rank</th>\n",
              "      <th>no_of_cores</th>\n",
              "      <th>micro_sd_slot</th>\n",
              "      <th>screen_pixel_density</th>\n",
              "      <th>water_proof_rate</th>\n",
              "      <th>phone_width</th>\n",
              "      <th>expandable_memory</th>\n",
              "      <th>version</th>\n",
              "      <th>usb_type</th>\n",
              "      <th>battery_capacity</th>\n",
              "      <th>processor_rank</th>\n",
              "      <th>is_liked</th>\n",
              "    </tr>\n",
              "  </thead>\n",
              "  <tbody>\n",
              "    <tr>\n",
              "      <th>0</th>\n",
              "      <td>0</td>\n",
              "      <td>12</td>\n",
              "      <td>55</td>\n",
              "      <td>155.0</td>\n",
              "      <td>250</td>\n",
              "      <td>1.3</td>\n",
              "      <td>10.5</td>\n",
              "      <td>5</td>\n",
              "      <td>2.00</td>\n",
              "      <td>0</td>\n",
              "      <td>4.5</td>\n",
              "      <td>15</td>\n",
              "      <td>3</td>\n",
              "      <td>0</td>\n",
              "      <td>0</td>\n",
              "      <td>132.9</td>\n",
              "      <td>26</td>\n",
              "      <td>3</td>\n",
              "      <td>3870</td>\n",
              "      <td>9</td>\n",
              "      <td>480</td>\n",
              "      <td>12</td>\n",
              "      <td>3</td>\n",
              "      <td>11</td>\n",
              "      <td>5.00</td>\n",
              "      <td>1</td>\n",
              "      <td>1</td>\n",
              "      <td>7</td>\n",
              "      <td>29</td>\n",
              "      <td>6</td>\n",
              "      <td>4</td>\n",
              "      <td>2</td>\n",
              "      <td>3</td>\n",
              "      <td>67.8</td>\n",
              "      <td>64.0</td>\n",
              "      <td>5</td>\n",
              "      <td>3</td>\n",
              "      <td>2000</td>\n",
              "      <td>125</td>\n",
              "      <td>1</td>\n",
              "    </tr>\n",
              "    <tr>\n",
              "      <th>1</th>\n",
              "      <td>0</td>\n",
              "      <td>1</td>\n",
              "      <td>55</td>\n",
              "      <td>132.0</td>\n",
              "      <td>300</td>\n",
              "      <td>1.3</td>\n",
              "      <td>10.6</td>\n",
              "      <td>5</td>\n",
              "      <td>0.30</td>\n",
              "      <td>1</td>\n",
              "      <td>4.0</td>\n",
              "      <td>30</td>\n",
              "      <td>2</td>\n",
              "      <td>6</td>\n",
              "      <td>0</td>\n",
              "      <td>124.5</td>\n",
              "      <td>26</td>\n",
              "      <td>5</td>\n",
              "      <td>4059</td>\n",
              "      <td>9</td>\n",
              "      <td>720</td>\n",
              "      <td>15</td>\n",
              "      <td>3</td>\n",
              "      <td>11</td>\n",
              "      <td>5.00</td>\n",
              "      <td>1</td>\n",
              "      <td>1</td>\n",
              "      <td>7</td>\n",
              "      <td>11</td>\n",
              "      <td>6</td>\n",
              "      <td>4</td>\n",
              "      <td>4</td>\n",
              "      <td>6</td>\n",
              "      <td>64.0</td>\n",
              "      <td>32.0</td>\n",
              "      <td>5</td>\n",
              "      <td>3</td>\n",
              "      <td>2000</td>\n",
              "      <td>165</td>\n",
              "      <td>1</td>\n",
              "    </tr>\n",
              "    <tr>\n",
              "      <th>2</th>\n",
              "      <td>0</td>\n",
              "      <td>9</td>\n",
              "      <td>55</td>\n",
              "      <td>142.0</td>\n",
              "      <td>329</td>\n",
              "      <td>1.5</td>\n",
              "      <td>8.5</td>\n",
              "      <td>5</td>\n",
              "      <td>2.00</td>\n",
              "      <td>3</td>\n",
              "      <td>5.0</td>\n",
              "      <td>30</td>\n",
              "      <td>2</td>\n",
              "      <td>20</td>\n",
              "      <td>0</td>\n",
              "      <td>145.5</td>\n",
              "      <td>4</td>\n",
              "      <td>3</td>\n",
              "      <td>4777</td>\n",
              "      <td>10</td>\n",
              "      <td>1080</td>\n",
              "      <td>4</td>\n",
              "      <td>3</td>\n",
              "      <td>1</td>\n",
              "      <td>5.04</td>\n",
              "      <td>2</td>\n",
              "      <td>1</td>\n",
              "      <td>7</td>\n",
              "      <td>27</td>\n",
              "      <td>6</td>\n",
              "      <td>4</td>\n",
              "      <td>9</td>\n",
              "      <td>6</td>\n",
              "      <td>72.0</td>\n",
              "      <td>32.0</td>\n",
              "      <td>6</td>\n",
              "      <td>3</td>\n",
              "      <td>2500</td>\n",
              "      <td>164</td>\n",
              "      <td>0</td>\n",
              "    </tr>\n",
              "    <tr>\n",
              "      <th>3</th>\n",
              "      <td>0</td>\n",
              "      <td>8</td>\n",
              "      <td>55</td>\n",
              "      <td>152.0</td>\n",
              "      <td>385</td>\n",
              "      <td>1.3</td>\n",
              "      <td>8.0</td>\n",
              "      <td>5</td>\n",
              "      <td>2.00</td>\n",
              "      <td>3</td>\n",
              "      <td>5.0</td>\n",
              "      <td>15</td>\n",
              "      <td>3</td>\n",
              "      <td>0</td>\n",
              "      <td>0</td>\n",
              "      <td>147.5</td>\n",
              "      <td>26</td>\n",
              "      <td>3</td>\n",
              "      <td>5799</td>\n",
              "      <td>19</td>\n",
              "      <td>720</td>\n",
              "      <td>17</td>\n",
              "      <td>3</td>\n",
              "      <td>2</td>\n",
              "      <td>5.00</td>\n",
              "      <td>1</td>\n",
              "      <td>1</td>\n",
              "      <td>7</td>\n",
              "      <td>4</td>\n",
              "      <td>6</td>\n",
              "      <td>4</td>\n",
              "      <td>1</td>\n",
              "      <td>3</td>\n",
              "      <td>75.1</td>\n",
              "      <td>32.0</td>\n",
              "      <td>6</td>\n",
              "      <td>3</td>\n",
              "      <td>3000</td>\n",
              "      <td>165</td>\n",
              "      <td>1</td>\n",
              "    </tr>\n",
              "    <tr>\n",
              "      <th>4</th>\n",
              "      <td>1</td>\n",
              "      <td>1</td>\n",
              "      <td>55</td>\n",
              "      <td>234.0</td>\n",
              "      <td>385</td>\n",
              "      <td>1.3</td>\n",
              "      <td>7.9</td>\n",
              "      <td>5</td>\n",
              "      <td>1.92</td>\n",
              "      <td>3</td>\n",
              "      <td>5.0</td>\n",
              "      <td>15</td>\n",
              "      <td>3</td>\n",
              "      <td>0</td>\n",
              "      <td>0</td>\n",
              "      <td>179.0</td>\n",
              "      <td>18</td>\n",
              "      <td>3</td>\n",
              "      <td>5990</td>\n",
              "      <td>11</td>\n",
              "      <td>720</td>\n",
              "      <td>17</td>\n",
              "      <td>3</td>\n",
              "      <td>1</td>\n",
              "      <td>5.00</td>\n",
              "      <td>1</td>\n",
              "      <td>1</td>\n",
              "      <td>7</td>\n",
              "      <td>4</td>\n",
              "      <td>6</td>\n",
              "      <td>4</td>\n",
              "      <td>1</td>\n",
              "      <td>6</td>\n",
              "      <td>91.0</td>\n",
              "      <td>32.0</td>\n",
              "      <td>6</td>\n",
              "      <td>3</td>\n",
              "      <td>3000</td>\n",
              "      <td>165</td>\n",
              "      <td>0</td>\n",
              "    </tr>\n",
              "  </tbody>\n",
              "</table>\n",
              "</div>"
            ],
            "text/plain": [
              "   sim_type  aperture  gpu_rank  ...  battery_capacity  processor_rank  is_liked\n",
              "0         0        12        55  ...              2000             125         1\n",
              "1         0         1        55  ...              2000             165         1\n",
              "2         0         9        55  ...              2500             164         0\n",
              "3         0         8        55  ...              3000             165         1\n",
              "4         1         1        55  ...              3000             165         0\n",
              "\n",
              "[5 rows x 40 columns]"
            ]
          },
          "metadata": {
            "tags": []
          },
          "execution_count": 157
        }
      ]
    },
    {
      "cell_type": "code",
      "metadata": {
        "id": "rq8d8kFKIyJQ",
        "colab_type": "code",
        "colab": {
          "base_uri": "https://localhost:8080/",
          "height": 291
        },
        "outputId": "86d1fcbe-f6d5-4dea-db43-b5f39b2221e0"
      },
      "source": [
        "ax = sns.scatterplot(x=\"stand_by_time\", y=\"battery_capacity\", data=data)"
      ],
      "execution_count": 158,
      "outputs": [
        {
          "output_type": "display_data",
          "data": {
            "image/png": "[encoded data removed]",
            "text/plain": [
              "<Figure size 432x288 with 1 Axes>"
            ]
          },
          "metadata": {
            "tags": []
          }
        }
      ]
    },
    {
      "cell_type": "code",
      "metadata": {
        "id": "dWOe1LDeJEkq",
        "colab_type": "code",
        "colab": {
          "base_uri": "https://localhost:8080/",
          "height": 291
        },
        "outputId": "82e891ba-2252-4e03-a621-c405a6c31e5d"
      },
      "source": [
        "ax = sns.scatterplot(x=\"stand_by_time\", y=\"battery_capacity\", hue=\"thickness\", data=data)"
      ],
      "execution_count": 159,
      "outputs": [
        {
          "output_type": "display_data",
          "data": {
            "image/png": "[encoded data removed]",
            "text/plain": [
              "<Figure size 432x288 with 1 Axes>"
            ]
          },
          "metadata": {
            "tags": []
          }
        }
      ]
    },
    {
      "cell_type": "code",
      "metadata": {
        "id": "9m5PQq_7JYnu",
        "colab_type": "code",
        "colab": {
          "base_uri": "https://localhost:8080/",
          "height": 291
        },
        "outputId": "9b8c9f66-8d46-4125-fbf7-221a6c199f01"
      },
      "source": [
        "ax = sns.distplot(data[\"stand_by_time\"])"
      ],
      "execution_count": 161,
      "outputs": [
        {
          "output_type": "display_data",
          "data": {
            "image/png": "[encoded data removed]",
            "text/plain": [
              "<Figure size 432x288 with 1 Axes>"
            ]
          },
          "metadata": {
            "tags": []
          }
        }
      ]
    },
    {
      "cell_type": "code",
      "metadata": {
        "id": "bBl3ysz4Jjgi",
        "colab_type": "code",
        "colab": {
          "base_uri": "https://localhost:8080/",
          "height": 291
        },
        "outputId": "3ec7ce14-f281-4d99-c474-46878df57d46"
      },
      "source": [
        "ax = sns.distplot(data[\"stand_by_time\"], kde=False, rug=True, bins=20)"
      ],
      "execution_count": 162,
      "outputs": [
        {
          "output_type": "display_data",
          "data": {
            "image/png": "[encoded data removed]",
            "text/plain": [
              "<Figure size 432x288 with 1 Axes>"
            ]
          },
          "metadata": {
            "tags": []
          }
        }
      ]
    },
    {
      "cell_type": "code",
      "metadata": {
        "id": "1Sf0mh-wJ9xL",
        "colab_type": "code",
        "colab": {
          "base_uri": "https://localhost:8080/",
          "height": 291
        },
        "outputId": "a8a072b0-ad5c-4d72-e467-e7a752704709"
      },
      "source": [
        "ax = sns.boxplot(x=\"is_liked\", y=\"battery_capacity\", data=data)"
      ],
      "execution_count": 163,
      "outputs": [
        {
          "output_type": "display_data",
          "data": {
            "image/png": "[encoded data removed]",
            "text/plain": [
              "<Figure size 432x288 with 1 Axes>"
            ]
          },
          "metadata": {
            "tags": []
          }
        }
      ]
    },
    {
      "cell_type": "code",
      "metadata": {
        "id": "ljRid5d0KKz6",
        "colab_type": "code",
        "colab": {
          "base_uri": "https://localhost:8080/",
          "height": 291
        },
        "outputId": "9b194269-8999-4970-d3fe-6539c3499702"
      },
      "source": [
        "ax = sns.boxplot(x=\"expandable_memory\", y=\"price\", data=data)"
      ],
      "execution_count": 164,
      "outputs": [
        {
          "output_type": "display_data",
          "data": {
            "image/png": "[encoded data removed]",
            "text/plain": [
              "<Figure size 432x288 with 1 Axes>"
            ]
          },
          "metadata": {
            "tags": []
          }
        }
      ]
    },
    {
      "cell_type": "code",
      "metadata": {
        "id": "4dIsDMChKbXN",
        "colab_type": "code",
        "colab": {}
      },
      "source": [
        "uniform_data = np.random.rand(10,12)"
      ],
      "execution_count": 0,
      "outputs": []
    },
    {
      "cell_type": "code",
      "metadata": {
        "id": "JMFuQgg_Km6y",
        "colab_type": "code",
        "colab": {
          "base_uri": "https://localhost:8080/",
          "height": 363
        },
        "outputId": "d57a489d-d072-4212-d5d5-846aa6b7b949"
      },
      "source": [
        "print(uniform_data)"
      ],
      "execution_count": 166,
      "outputs": [
        {
          "output_type": "stream",
          "text": [
            "[[0.57560347 0.75457567 0.63466343 0.78203245 0.63658367 0.90501473\n",
            "  0.41957775 0.7602531  0.12081666 0.15712811 0.84071613 0.43367722]\n",
            " [0.89103072 0.5792786  0.11957394 0.45804996 0.03287827 0.93374914\n",
            "  0.46348615 0.55182118 0.59120779 0.16052435 0.12859837 0.94664029]\n",
            " [0.14829696 0.70171458 0.28638484 0.36434996 0.34916609 0.83522314\n",
            "  0.23427447 0.69183586 0.94280783 0.54781393 0.11293894 0.33520826]\n",
            " [0.01525198 0.39781716 0.44280767 0.08039769 0.05845987 0.41505302\n",
            "  0.58523505 0.81260252 0.99651292 0.79760801 0.20576304 0.92098703]\n",
            " [0.06768774 0.28134046 0.26673874 0.92882927 0.21047893 0.79720045\n",
            "  0.244469   0.49180565 0.13966345 0.04118712 0.35528473 0.29364042]\n",
            " [0.56707823 0.72218555 0.99599694 0.46891553 0.0457784  0.4458306\n",
            "  0.97407955 0.14607085 0.06067512 0.77886983 0.51573144 0.74343041]\n",
            " [0.46555364 0.48059338 0.56283112 0.12897443 0.61918859 0.62283523\n",
            "  0.09456291 0.80784969 0.3302802  0.81586751 0.2901196  0.96651629]\n",
            " [0.09890959 0.59944815 0.51599053 0.2356289  0.97130555 0.67957081\n",
            "  0.64304836 0.0205448  0.41880665 0.70285147 0.70728028 0.27236755]\n",
            " [0.22800426 0.82153159 0.03517489 0.81436693 0.0242418  0.1317958\n",
            "  0.30543022 0.83027467 0.75445606 0.7620785  0.6463221  0.42331632]\n",
            " [0.23590632 0.33696717 0.96638086 0.18640216 0.20379394 0.28270538\n",
            "  0.31052356 0.57950391 0.28236731 0.56152514 0.83064392 0.01165606]]\n"
          ],
          "name": "stdout"
        }
      ]
    },
    {
      "cell_type": "code",
      "metadata": {
        "id": "93t4vEJTKqZh",
        "colab_type": "code",
        "colab": {
          "base_uri": "https://localhost:8080/",
          "height": 274
        },
        "outputId": "ed6cf867-acbf-48c1-f7bd-dac3e7e67ae1"
      },
      "source": [
        "ax = sns.heatmap(uniform_data, cmap=\"YlGnBu\")"
      ],
      "execution_count": 169,
      "outputs": [
        {
          "output_type": "display_data",
          "data": {
            "image/png": "[encoded data removed]",
            "text/plain": [
              "<Figure size 432x288 with 2 Axes>"
            ]
          },
          "metadata": {
            "tags": []
          }
        }
      ]
    },
    {
      "cell_type": "code",
      "metadata": {
        "id": "sfwjCsWhKtVA",
        "colab_type": "code",
        "colab": {
          "base_uri": "https://localhost:8080/",
          "height": 207
        },
        "outputId": "f8804dff-b416-4dce-83d0-5929c34e436f"
      },
      "source": [
        "!wget https://s3.amazonaws.com/thinkific-import/153034/xRlRg7ERv2QuDe9ZV7q6_OFL_text-logo_color.png\n",
        "  "
      ],
      "execution_count": 172,
      "outputs": [
        {
          "output_type": "stream",
          "text": [
            "--2019-08-17 20:03:43--  https://s3.amazonaws.com/thinkific-import/153034/xRlRg7ERv2QuDe9ZV7q6_OFL_text-logo_color.png\n",
            "Resolving s3.amazonaws.com (s3.amazonaws.com)... 52.216.132.101\n",
            "Connecting to s3.amazonaws.com (s3.amazonaws.com)|52.216.132.101|:443... connected.\n",
            "HTTP request sent, awaiting response... 200 OK\n",
            "Length: 45759 (45K) [image/png]\n",
            "Saving to: ‘xRlRg7ERv2QuDe9ZV7q6_OFL_text-logo_color.png’\n",
            "\n",
            "\r          xRlRg7ERv   0%[                    ]       0  --.-KB/s               \rxRlRg7ERv2QuDe9ZV7q 100%[===================>]  44.69K  --.-KB/s    in 0.01s   \n",
            "\n",
            "2019-08-17 20:03:43 (3.27 MB/s) - ‘xRlRg7ERv2QuDe9ZV7q6_OFL_text-logo_color.png’ saved [45759/45759]\n",
            "\n"
          ],
          "name": "stdout"
        }
      ]
    },
    {
      "cell_type": "code",
      "metadata": {
        "id": "OjrCeKONLMcj",
        "colab_type": "code",
        "colab": {
          "base_uri": "https://localhost:8080/",
          "height": 86
        },
        "outputId": "812f1e97-b67e-4039-acae-2ac1dcaa082a"
      },
      "source": [
        "!ls\n"
      ],
      "execution_count": 173,
      "outputs": [
        {
          "output_type": "stream",
          "text": [
            " mobile_cleaned-1549119762886.csv\n",
            " sample_data\n",
            "'url?sa=i'\n",
            " xRlRg7ERv2QuDe9ZV7q6_OFL_text-logo_color.png\n"
          ],
          "name": "stdout"
        }
      ]
    },
    {
      "cell_type": "code",
      "metadata": {
        "id": "k1lUh-yzLObq",
        "colab_type": "code",
        "colab": {}
      },
      "source": [
        "!rm -f 'url*'"
      ],
      "execution_count": 0,
      "outputs": []
    },
    {
      "cell_type": "code",
      "metadata": {
        "id": "HYsfK6ZYLhkj",
        "colab_type": "code",
        "colab": {
          "base_uri": "https://localhost:8080/",
          "height": 86
        },
        "outputId": "ec467387-942c-4da0-b84c-1efd8f5e6b29"
      },
      "source": [
        "!ls"
      ],
      "execution_count": 175,
      "outputs": [
        {
          "output_type": "stream",
          "text": [
            " mobile_cleaned-1549119762886.csv\n",
            " sample_data\n",
            "'url?sa=i'\n",
            " xRlRg7ERv2QuDe9ZV7q6_OFL_text-logo_color.png\n"
          ],
          "name": "stdout"
        }
      ]
    },
    {
      "cell_type": "code",
      "metadata": {
        "id": "UcqfL-rjLi1M",
        "colab_type": "code",
        "colab": {}
      },
      "source": [
        "!rm -rf 'url?sa=i'"
      ],
      "execution_count": 0,
      "outputs": []
    },
    {
      "cell_type": "code",
      "metadata": {
        "id": "Q9WtaD_2LmZb",
        "colab_type": "code",
        "colab": {
          "base_uri": "https://localhost:8080/",
          "height": 51
        },
        "outputId": "7f43d3c8-e465-48dc-eb55-caece108fd1a"
      },
      "source": [
        "!ls"
      ],
      "execution_count": 177,
      "outputs": [
        {
          "output_type": "stream",
          "text": [
            "mobile_cleaned-1549119762886.csv  xRlRg7ERv2QuDe9ZV7q6_OFL_text-logo_color.png\n",
            "sample_data\n"
          ],
          "name": "stdout"
        }
      ]
    },
    {
      "cell_type": "code",
      "metadata": {
        "id": "PXXRmw5lLn_3",
        "colab_type": "code",
        "colab": {}
      },
      "source": [
        "!mv xRlRg7ERv2QuDe9ZV7q6_OFL_text-logo_color.png onefourthlabs.png"
      ],
      "execution_count": 0,
      "outputs": []
    },
    {
      "cell_type": "code",
      "metadata": {
        "id": "IaxFf6kILsX4",
        "colab_type": "code",
        "colab": {}
      },
      "source": [
        "import matplotlib.image as mimg"
      ],
      "execution_count": 0,
      "outputs": []
    },
    {
      "cell_type": "code",
      "metadata": {
        "id": "ElMVFz2CLwt-",
        "colab_type": "code",
        "colab": {}
      },
      "source": [
        "img = mimg.imread('onefourthlabs.png')"
      ],
      "execution_count": 0,
      "outputs": []
    },
    {
      "cell_type": "code",
      "metadata": {
        "id": "iVYmM7vYL23n",
        "colab_type": "code",
        "colab": {
          "base_uri": "https://localhost:8080/",
          "height": 866
        },
        "outputId": "d9696c9c-7e08-4758-b863-2731e480edec"
      },
      "source": [
        "print(img)"
      ],
      "execution_count": 181,
      "outputs": [
        {
          "output_type": "stream",
          "text": [
            "[[[0. 0. 0. 0.]\n",
            "  [0. 0. 0. 0.]\n",
            "  [0. 0. 0. 0.]\n",
            "  ...\n",
            "  [0. 0. 0. 0.]\n",
            "  [0. 0. 0. 0.]\n",
            "  [0. 0. 0. 0.]]\n",
            "\n",
            " [[0. 0. 0. 0.]\n",
            "  [0. 0. 0. 0.]\n",
            "  [0. 0. 0. 0.]\n",
            "  ...\n",
            "  [0. 0. 0. 0.]\n",
            "  [0. 0. 0. 0.]\n",
            "  [0. 0. 0. 0.]]\n",
            "\n",
            " [[0. 0. 0. 0.]\n",
            "  [0. 0. 0. 0.]\n",
            "  [0. 0. 0. 0.]\n",
            "  ...\n",
            "  [0. 0. 0. 0.]\n",
            "  [0. 0. 0. 0.]\n",
            "  [0. 0. 0. 0.]]\n",
            "\n",
            " ...\n",
            "\n",
            " [[0. 0. 0. 0.]\n",
            "  [0. 0. 0. 0.]\n",
            "  [0. 0. 0. 0.]\n",
            "  ...\n",
            "  [0. 0. 0. 0.]\n",
            "  [0. 0. 0. 0.]\n",
            "  [0. 0. 0. 0.]]\n",
            "\n",
            " [[0. 0. 0. 0.]\n",
            "  [0. 0. 0. 0.]\n",
            "  [0. 0. 0. 0.]\n",
            "  ...\n",
            "  [0. 0. 0. 0.]\n",
            "  [0. 0. 0. 0.]\n",
            "  [0. 0. 0. 0.]]\n",
            "\n",
            " [[0. 0. 0. 0.]\n",
            "  [0. 0. 0. 0.]\n",
            "  [0. 0. 0. 0.]\n",
            "  ...\n",
            "  [0. 0. 0. 0.]\n",
            "  [0. 0. 0. 0.]\n",
            "  [0. 0. 0. 0.]]]\n"
          ],
          "name": "stdout"
        }
      ]
    },
    {
      "cell_type": "code",
      "metadata": {
        "id": "wkKahA_KL5YD",
        "colab_type": "code",
        "colab": {
          "base_uri": "https://localhost:8080/",
          "height": 152
        },
        "outputId": "447d01a2-7a4b-4602-d02b-11d4c012c427"
      },
      "source": [
        "imgplot = plt.imshow(img)"
      ],
      "execution_count": 182,
      "outputs": [
        {
          "output_type": "display_data",
          "data": {
            "image/png": "[encoded data removed]",
            "text/plain": [
              "<Figure size 432x288 with 1 Axes>"
            ]
          },
          "metadata": {
            "tags": []
          }
        }
      ]
    },
    {
      "cell_type": "code",
      "metadata": {
        "id": "NejOxY9YL9nR",
        "colab_type": "code",
        "colab": {}
      },
      "source": [
        ""
      ],
      "execution_count": 0,
      "outputs": []
    }
  ]
}